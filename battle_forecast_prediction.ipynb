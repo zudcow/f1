{
 "cells": [
  {
   "cell_type": "code",
   "execution_count": 1,
   "metadata": {},
   "outputs": [],
   "source": [
    "import fastf1\n",
    "import numpy as np\n",
    "import matplotlib.pyplot as plt\n",
    "import pandas as pd\n",
    "import seaborn as sns\n",
    "from sklearn.linear_model import LinearRegression\n",
    "from fastf1.ergast import Ergast\n",
    "from sklearn.metrics import mean_absolute_error, mean_squared_error\n",
    "pd.set_option('display.float_format', '{:.3f}'.format)\n",
    "\n",
    "import xgboost as xgb\n",
    "from sklearn.preprocessing import OneHotEncoder\n",
    "from sklearn.compose import ColumnTransformer\n",
    "from sklearn.pipeline import Pipeline"
   ]
  },
  {
   "cell_type": "code",
   "execution_count": null,
   "metadata": {},
   "outputs": [],
   "source": [
    "#sess = fastf1.get_session(2023, 'Abu Dhabi Grand Prix', 'R')\n",
    "#sess.load()"
   ]
  },
  {
   "cell_type": "code",
   "execution_count": 2,
   "metadata": {},
   "outputs": [
    {
     "name": "stderr",
     "output_type": "stream",
     "text": [
      "/var/folders/80/nwtb7gx54bg06b5y_lyjvwt40000gn/T/ipykernel_94665/2430009690.py:1: DtypeWarning: Columns (28) have mixed types. Specify dtype option on import or set low_memory=False.\n",
      "  df_all = pd.read_csv('/Users/macbook/Documents/fastf1/race_data/race_data_2018_2023.csv')\n"
     ]
    },
    {
     "name": "stdout",
     "output_type": "stream",
     "text": [
      "<class 'pandas.core.frame.DataFrame'>\n",
      "RangeIndex: 136062 entries, 0 to 136061\n",
      "Data columns (total 34 columns):\n",
      " #   Column              Non-Null Count   Dtype  \n",
      "---  ------              --------------   -----  \n",
      " 0   Time                136062 non-null  object \n",
      " 1   Driver              136062 non-null  object \n",
      " 2   DriverNumber        136062 non-null  int64  \n",
      " 3   LapTime             133354 non-null  float64\n",
      " 4   LapNumber           136062 non-null  float64\n",
      " 5   Stint               135719 non-null  float64\n",
      " 6   PitOutTime          4367 non-null    float64\n",
      " 7   PitInTime           4513 non-null    float64\n",
      " 8   Sector1Time         133111 non-null  float64\n",
      " 9   Sector2Time         135757 non-null  float64\n",
      " 10  Sector3Time         135625 non-null  float64\n",
      " 11  Sector1SessionTime  132789 non-null  object \n",
      " 12  Sector2SessionTime  135757 non-null  object \n",
      " 13  Sector3SessionTime  135625 non-null  object \n",
      " 14  SpeedI1             116594 non-null  float64\n",
      " 15  SpeedI2             135705 non-null  float64\n",
      " 16  SpeedFL             131280 non-null  float64\n",
      " 17  SpeedST             125327 non-null  float64\n",
      " 18  IsPersonalBest      135885 non-null  object \n",
      " 19  Compound            135719 non-null  object \n",
      " 20  TyreLife            135719 non-null  float64\n",
      " 21  FreshTyre           136062 non-null  bool   \n",
      " 22  Team                136062 non-null  object \n",
      " 23  LapStartTime        136062 non-null  object \n",
      " 24  LapStartDate        134893 non-null  object \n",
      " 25  TrackStatus         134545 non-null  float64\n",
      " 26  Position            135885 non-null  float64\n",
      " 27  Deleted             136062 non-null  bool   \n",
      " 28  DeletedReason       1067 non-null    object \n",
      " 29  FastF1Generated     136062 non-null  bool   \n",
      " 30  IsAccurate          136062 non-null  bool   \n",
      " 31  CumulativeTime      133354 non-null  float64\n",
      " 32  Year                136062 non-null  int64  \n",
      " 33  RaceName            136062 non-null  object \n",
      "dtypes: bool(4), float64(16), int64(2), object(12)\n",
      "memory usage: 31.7+ MB\n"
     ]
    }
   ],
   "source": [
    "df_all = pd.read_csv('/Users/macbook/Documents/fastf1/race_data/race_data_2018_2023.csv')\n",
    "df_all.info()"
   ]
  },
  {
   "cell_type": "code",
   "execution_count": null,
   "metadata": {},
   "outputs": [],
   "source": []
  },
  {
   "cell_type": "code",
   "execution_count": 3,
   "metadata": {},
   "outputs": [],
   "source": [
    "def preprocess_data(df, map_compound=True, map_teams=False):\n",
    "    # Create a copy of the input DataFrame\n",
    "    df_copy = df.copy()\n",
    "\n",
    "    # If needed map the old team names to the 2023 ones\n",
    "    if map_teams:\n",
    "      team_name_mapping = {\n",
    "         'Force India': 'Aston Martin',\n",
    "         'Racing Point': 'Aston Martin',\n",
    "         'Toro Rosso': 'AlphaTauri',\n",
    "         'Sauber': 'Alfa Romeo',\n",
    "         'Alfa Romeo Racing': 'Alfa Romeo',\n",
    "         'Renault': 'Alpine'\n",
    "      }\n",
    "      # Replace the old team names with the new ones in the 'Team' column\n",
    "      df_copy['Team'] = df_copy['Team'].replace(team_name_mapping)\n",
    "\n",
    "    if map_compound:\n",
    "      compound_mapping = {\n",
    "         'HYPERSOFT':1,'ULTRASOFT':2, 'SUPERSOFT':3, 'SOFT':4,\n",
    "         'MEDIUM':5,'HARD':6, 'INTERMEDIATE':7, 'WET':8, 'UNKNOWN':0\n",
    "      }\n",
    "      \n",
    "      df_copy['Compound'] = df_copy['Compound'].fillna('UNKNOWN')\n",
    "      df_copy['Compound'] = df_copy['Compound'].replace(compound_mapping)\n",
    "      \n",
    "   \n",
    "\n",
    "    df_copy['TrackStatus'] = df_copy['TrackStatus'].astype(str)\n",
    "    df_copy['PitIn'] = df_copy['PitInTime'].notnull()\n",
    "    df_copy['PitOut'] = df_copy['PitOutTime'].notnull()\n",
    "    \n",
    "\n",
    "    df_copy = df_copy.drop(['Time','PitInTime','PitOutTime','Sector1SessionTime','Sector2SessionTime', 'Sector3SessionTime','LapStartTime',\n",
    "       'LapStartDate','Deleted', 'DeletedReason',\n",
    "       'FastF1Generated', 'IsAccurate'], axis=1)\n",
    "\n",
    "    # Return the preprocessed DataFrame\n",
    "    return df_copy"
   ]
  },
  {
   "cell_type": "code",
   "execution_count": 4,
   "metadata": {},
   "outputs": [
    {
     "name": "stderr",
     "output_type": "stream",
     "text": [
      "/var/folders/80/nwtb7gx54bg06b5y_lyjvwt40000gn/T/ipykernel_94665/832340770.py:25: FutureWarning: Downcasting behavior in `replace` is deprecated and will be removed in a future version. To retain the old behavior, explicitly call `result.infer_objects(copy=False)`. To opt-in to the future behavior, set `pd.set_option('future.no_silent_downcasting', True)`\n",
      "  df_copy['Compound'] = df_copy['Compound'].replace(compound_mapping)\n"
     ]
    }
   ],
   "source": [
    "df_all = preprocess_data(df_all, map_compound=True)"
   ]
  },
  {
   "cell_type": "code",
   "execution_count": 6,
   "metadata": {},
   "outputs": [],
   "source": [
    "def get_round_number(year, race):\n",
    "    schedule = fastf1.get_event_schedule(year)\n",
    "    round_number = schedule[schedule['EventName'] == race]['RoundNumber'].values[0]\n",
    "    \n",
    "    return round_number"
   ]
  },
  {
   "cell_type": "code",
   "execution_count": 7,
   "metadata": {},
   "outputs": [],
   "source": [
    "def get_team_standings_map(ergast_team_standings_df, race_df):\n",
    "    # Create a dictionary from the ergast_team_standings_df DataFrame\n",
    "    team_standings_map = dict(zip(ergast_team_standings_df['constructorName'], ergast_team_standings_df['position']))\n",
    "\n",
    "    # Iterate over the unique team names in the race_df DataFrame\n",
    "    for team in race_df['Team'].unique():\n",
    "        # Find the key in the dictionary that is a substring of the team name or vice versa\n",
    "        matching_keys = [key for key in team_standings_map.keys() if key in team or team in key]\n",
    "        if matching_keys:\n",
    "            # Add a new entry to the dictionary\n",
    "            team_standings_map[team] = team_standings_map[matching_keys[0]]\n",
    "\n",
    "    # Return the modified dictionary\n",
    "    return team_standings_map"
   ]
  },
  {
   "cell_type": "code",
   "execution_count": 5,
   "metadata": {},
   "outputs": [],
   "source": [
    "def filter_for_race(df, race_name, year, team_encode=False):\n",
    "\n",
    "    # Filter the DataFrame by the grand prix name and the range of years\n",
    "    filtered_df = df[(df['RaceName'] == race_name) & (df['Year']==year)]\n",
    "\n",
    "    # If the 'Team' column should be encoded, replace the team names with standings at race:\n",
    "    if team_encode:\n",
    "        # Get the round number for the given race\n",
    "        round = get_round_number(year, race_name)\n",
    "        # If first round use last year's final standings\n",
    "        if round == 1:\n",
    "            year -= 1\n",
    "        ergast = Ergast()\n",
    "        standings = ergast.get_constructor_standings(season=year, round=round-1)\n",
    "        team_standings = standings.content[0]\n",
    "        team_standings = team_standings[['constructorName', 'position']]\n",
    "        team_standings_map = get_team_standings_map(team_standings, filtered_df)\n",
    "        filtered_df['Team'] = filtered_df['Team'].replace(team_standings_map)\n",
    "\n",
    "\n",
    "    # Return the filtered DataFrame\n",
    "    return filtered_df"
   ]
  },
  {
   "cell_type": "code",
   "execution_count": 6,
   "metadata": {},
   "outputs": [],
   "source": [
    "df_race = filter_for_race(df_all, 'Abu Dhabi Grand Prix', 2023, team_encode=False)"
   ]
  },
  {
   "cell_type": "code",
   "execution_count": 7,
   "metadata": {},
   "outputs": [],
   "source": [
    "def remove_slow_laps(df, threshold=1.07):\n",
    "    # Group by driver and apply the slow lap removal logic within each group\n",
    "    def process_driver(group):\n",
    "        max_allowed_lap_time = group['LapTime'].min() * threshold\n",
    "        group['LapTime'] = group['LapTime'].where(group['LapTime'] < max_allowed_lap_time, np.nan)\n",
    "        group['LapTime'] = group['LapTime'].ffill()\n",
    "        return group\n",
    "\n",
    "    # Apply the function per driver\n",
    "    df = df.groupby(['Year', 'RaceName', 'Driver']).apply(process_driver).reset_index(drop=True)\n",
    "\n",
    "    return df"
   ]
  },
  {
   "cell_type": "code",
   "execution_count": 8,
   "metadata": {},
   "outputs": [
    {
     "name": "stderr",
     "output_type": "stream",
     "text": [
      "/var/folders/80/nwtb7gx54bg06b5y_lyjvwt40000gn/T/ipykernel_94665/888154003.py:10: DeprecationWarning: DataFrameGroupBy.apply operated on the grouping columns. This behavior is deprecated, and in a future version of pandas the grouping columns will be excluded from the operation. Either pass `include_groups=False` to exclude the groupings or explicitly select the grouping columns after groupby to silence this warning.\n",
      "  df = df.groupby(['Year', 'RaceName', 'Driver']).apply(process_driver).reset_index(drop=True)\n"
     ]
    }
   ],
   "source": [
    "df_race = remove_slow_laps(df_race)"
   ]
  },
  {
   "cell_type": "markdown",
   "metadata": {},
   "source": [
    "Remember to remove slow laps before training tho!"
   ]
  },
  {
   "cell_type": "code",
   "execution_count": 9,
   "metadata": {},
   "outputs": [],
   "source": [
    "def add_lags(df, num_lags):\n",
    "    # Sort the DataFrame\n",
    "    df.sort_values(by=['Year', 'RaceName', 'Driver', 'LapNumber'], inplace=True)\n",
    "\n",
    "    # Create lagged features\n",
    "    for i in range(1, num_lags + 1):\n",
    "        df[f'LapTime_Lag{i}'] = df.groupby(['Year', 'RaceName', 'Driver'])['LapTime'].shift(i)\n",
    "        #df[f'Sector1Time_Lag{i}'] = df.groupby(['Year', 'RaceName', 'Driver'])['Sector1Time'].shift(i)\n",
    "        #df[f'Sector2Time_Lag{i}'] = df.groupby(['Year', 'RaceName', 'Driver'])['Sector2Time'].shift(i)\n",
    "        #df[f'Sector3Time_Lag{i}'] = df.groupby(['Year', 'RaceName', 'Driver'])['Sector3Time'].shift(i)\n",
    "\n",
    "    # Return the DataFrame with the lagged features\n",
    "    return df"
   ]
  },
  {
   "cell_type": "code",
   "execution_count": 10,
   "metadata": {},
   "outputs": [],
   "source": [
    "df_race = add_lags(df_race, 3)"
   ]
  },
  {
   "cell_type": "code",
   "execution_count": null,
   "metadata": {},
   "outputs": [],
   "source": [
    "def add_laptime_diff(df, driver):\n",
    "    # Create the 'LapTime_Diff' feature for the specified driver\n",
    "    df.loc[df['Driver'] == driver, 'LapTime_Diff'] = df[df['Driver'] == driver]['LapTime'] - df[df['Driver'] == driver]['LapTime'].shift(1)\n",
    "\n",
    "    # Return the DataFrame with the 'LapTime_Diff' feature\n",
    "    return df"
   ]
  },
  {
   "cell_type": "markdown",
   "metadata": {},
   "source": [
    "Train xgb on historic data for laptime difference normalized for track length? Recent historic only? "
   ]
  },
  {
   "cell_type": "code",
   "execution_count": 11,
   "metadata": {},
   "outputs": [],
   "source": [
    "def add_rolling_mean(df, window=3):\n",
    "    df = df.reset_index(drop=True)\n",
    "\n",
    "    df['RollingMean'] = df.groupby(['Year','RaceName',\n",
    "                                    'Driver'])['LapTime'].transform(lambda x: x.shift(1).rolling(window=window).mean())\n",
    "    return df"
   ]
  },
  {
   "cell_type": "code",
   "execution_count": 12,
   "metadata": {},
   "outputs": [],
   "source": [
    "df_race = add_rolling_mean(df_race)"
   ]
  },
  {
   "cell_type": "code",
   "execution_count": 13,
   "metadata": {},
   "outputs": [],
   "source": [
    "def add_stint_mean(df):\n",
    "    df = df.reset_index(drop=True)\n",
    "    \n",
    "    df['StintMean'] = df.groupby([\n",
    "        'Year', 'RaceName',\n",
    "        'Driver', 'Stint'])['LapTime'].transform(lambda x: x.shift(1).expanding().mean())\n",
    "\n",
    "    return df"
   ]
  },
  {
   "cell_type": "code",
   "execution_count": 14,
   "metadata": {},
   "outputs": [],
   "source": [
    "def add_stint_median(df):\n",
    "    df = df.reset_index(drop=True)\n",
    "\n",
    "    df['StintMedian'] = df.groupby(['Year', 'RaceName',\n",
    "                                    'Driver', 'Stint'])['LapTime'].transform(lambda x: x.shift(1).expanding().median())\n",
    "\n",
    "    return df\n"
   ]
  },
  {
   "cell_type": "code",
   "execution_count": 46,
   "metadata": {},
   "outputs": [],
   "source": [
    "df_race = add_stint_median(df_race)"
   ]
  },
  {
   "cell_type": "code",
   "execution_count": 16,
   "metadata": {},
   "outputs": [],
   "source": [
    "df_race = add_stint_mean(df_race)"
   ]
  },
  {
   "cell_type": "code",
   "execution_count": 33,
   "metadata": {},
   "outputs": [],
   "source": [
    "df_race = add_rolling_mean(df_race)"
   ]
  },
  {
   "cell_type": "code",
   "execution_count": 12,
   "metadata": {},
   "outputs": [],
   "source": [
    "def train_test_split(df,lap):\n",
    "    # Use data from before the given lap as training data\n",
    "    train_data = df[df['LapNumber'] <= lap]\n",
    "    \n",
    "    # Use data from the given lap onwards as test data\n",
    "    test_data = df[df['LapNumber'] > lap]\n",
    "    \n",
    "    return train_data, test_data"
   ]
  },
  {
   "cell_type": "code",
   "execution_count": 39,
   "metadata": {},
   "outputs": [],
   "source": [
    "def driver_split(df, driver_behind, driver_front):\n",
    "    # Split the DataFrame into two DataFrames, one for the driver behind and one for the driver in front\n",
    "    df_behind = df[df['Driver'] == driver_behind]\n",
    "    df_front = df[df['Driver'] == driver_front]\n",
    "    \n",
    "    return df_behind, df_front"
   ]
  },
  {
   "cell_type": "code",
   "execution_count": 69,
   "metadata": {},
   "outputs": [],
   "source": [
    "df_behind, df_front = driver_split(df_race, 'VER', 'ALB')\n"
   ]
  },
  {
   "cell_type": "code",
   "execution_count": 71,
   "metadata": {},
   "outputs": [
    {
     "data": {
      "text/plain": [
       "Index(['Driver', 'DriverNumber', 'LapTime', 'LapNumber', 'Stint',\n",
       "       'Sector1Time', 'Sector2Time', 'Sector3Time', 'SpeedI1', 'SpeedI2',\n",
       "       'SpeedFL', 'SpeedST', 'IsPersonalBest', 'Compound', 'TyreLife',\n",
       "       'FreshTyre', 'Team', 'TrackStatus', 'Position', 'CumulativeTime',\n",
       "       'Year', 'RaceName', 'PitIn', 'PitOut', 'LapTime_Lag1',\n",
       "       'Sector1Time_Lag1', 'Sector2Time_Lag1', 'Sector3Time_Lag1',\n",
       "       'LapTime_Lag2', 'Sector1Time_Lag2', 'Sector2Time_Lag2',\n",
       "       'Sector3Time_Lag2', 'LapTime_Lag3', 'Sector1Time_Lag3',\n",
       "       'Sector2Time_Lag3', 'Sector3Time_Lag3', 'LapTime_Lag4',\n",
       "       'Sector1Time_Lag4', 'Sector2Time_Lag4', 'Sector3Time_Lag4',\n",
       "       'LapTime_Lag5', 'Sector1Time_Lag5', 'Sector2Time_Lag5',\n",
       "       'Sector3Time_Lag5', 'LapTime_Lag6', 'Sector1Time_Lag6',\n",
       "       'Sector2Time_Lag6', 'Sector3Time_Lag6', 'LapTime_RollingMean_3',\n",
       "       'StintAverage'],\n",
       "      dtype='object')"
      ]
     },
     "execution_count": 71,
     "metadata": {},
     "output_type": "execute_result"
    }
   ],
   "source": [
    "df_behind.columns"
   ]
  },
  {
   "cell_type": "code",
   "execution_count": 45,
   "metadata": {},
   "outputs": [
    {
     "data": {
      "image/png": "[encoded data removed]",
      "text/plain": [
       "<Figure size 1200x600 with 2 Axes>"
      ]
     },
     "metadata": {},
     "output_type": "display_data"
    }
   ],
   "source": [
    "import matplotlib.pyplot as plt\n",
    "import seaborn as sns\n",
    "\n",
    "# Create a figure and two subplots\n",
    "fig, (ax1, ax2) = plt.subplots(1, 2, sharey=True, figsize=(12, 6))\n",
    "\n",
    "# Plot df_behind_filtered['LapTime'] and df_behind_filtered['LapTimeLag_1'] on the first subplot\n",
    "sns.regplot(x='LapNumber', y='LapTime', data=df_behind, ax=ax1)\n",
    "ax1.set_title('df_behind_filtered')\n",
    "\n",
    "# Plot df_front_filtered['LapTime'] and df_front_filtered['LapTimeLag_1'] on the second subplot\n",
    "sns.regplot(x='LapNumber', y='LapTime', data=df_front, ax=ax2)\n",
    "ax2.set_title('df_front_filtered')\n",
    "\n",
    "# Display the plots\n",
    "plt.show()"
   ]
  },
  {
   "cell_type": "code",
   "execution_count": 75,
   "metadata": {},
   "outputs": [
    {
     "data": {
      "image/png": "[encoded data removed]",
      "text/plain": [
       "<Figure size 1500x1000 with 6 Axes>"
      ]
     },
     "metadata": {},
     "output_type": "display_data"
    }
   ],
   "source": [
    "import matplotlib.pyplot as plt\n",
    "import seaborn as sns\n",
    "\n",
    "# Create a 2x3 grid of subplots\n",
    "fig, axs = plt.subplots(2, 3, figsize=(15, 10))\n",
    "\n",
    "# Create the plots\n",
    "plot_pairs = [\n",
    "    ('LapNumber', 'LapTime'),\n",
    "    ('LapTime_Lag1', 'LapTime'),\n",
    "    ('LapTime_Lag2', 'LapTime'),\n",
    "    ('StintMedian', 'LapTime'),\n",
    "    ('LapTime_RollingMean_3', 'LapTime'),\n",
    "    ('StintAverage', 'LapTime')\n",
    "]\n",
    "\n",
    "# Create the plots\n",
    "for i, (x, y) in enumerate(plot_pairs):\n",
    "    ax = axs[i // 3, i % 3]\n",
    "    sns.regplot(x=x, y=y, data=df_front, ax=ax)\n",
    "    \n",
    "    # Calculate the autocorrelation\n",
    "    autocorr = np.corrcoef(df_front[x].values[:-1], df_front[y].values[1:])[0, 1]\n",
    "    \n",
    "    # Display the autocorrelation value on the plot\n",
    "    ax.text(0.5, 0.9, f'Autocorr: {autocorr:.2f}', transform=ax.transAxes)\n",
    "\n",
    "# Remove any unused subplots\n",
    "for j in range(i + 1, 6):\n",
    "    fig.delaxes(axs[j // 3, j % 3])\n",
    "\n",
    "# Display the plots\n",
    "plt.tight_layout()\n",
    "plt.show()"
   ]
  },
  {
   "cell_type": "code",
   "execution_count": 38,
   "metadata": {},
   "outputs": [
    {
     "data": {
      "image/png": "[encoded data removed]",
      "text/plain": [
       "<Figure size 1000x600 with 1 Axes>"
      ]
     },
     "metadata": {},
     "output_type": "display_data"
    }
   ],
   "source": [
    "import statsmodels.api as sm\n",
    "# Drop rows with NaN values from the entire DataFrame\n",
    "df_behind_clean = df_behind[['LapTime', 'LapTime_Lag1', 'LapTime_Lag2', 'LapTime_Lag3', 'LapTime_Lag4', 'LapTime_Lag5', 'LapTime_Lag6']].dropna()\n",
    "\n",
    "\n",
    "# Initialize a list to store the partial correlations\n",
    "partial_corrs = []\n",
    "\n",
    "# Calculate the partial correlation for each lag\n",
    "for i in range(1, 7):\n",
    "    # Define the control variables\n",
    "    control_vars = df_behind_clean.columns.difference(['LapTime', f'LapTime_Lag{i}']).tolist()\n",
    "    \n",
    "    # Fit the model\n",
    "    model = sm.OLS(df_behind_clean['LapTime'], sm.add_constant(df_behind_clean[control_vars + [f'LapTime_Lag{i}']]))\n",
    "    results = model.fit()\n",
    "    \n",
    "    # Get the partial correlation (which is the coefficient of 'LapTime_Lag(i)' in the model)\n",
    "    partial_corr = results.params[f'LapTime_Lag{i}']\n",
    "    partial_corrs.append(partial_corr)\n",
    "\n",
    "# Create the plot\n",
    "plt.figure(figsize=(10, 6))\n",
    "plt.scatter(range(1, 7), partial_corrs, marker='o')\n",
    "plt.xlabel('Lag')\n",
    "plt.ylabel('Partial Correlation')\n",
    "plt.title('Partial Correlation of LapTime and LapTime_Lag(i)')\n",
    "plt.grid(True)\n",
    "\n",
    "# Get the limits of the x-axis\n",
    "x_start, x_end = plt.xlim()\n",
    "\n",
    "# Fill the area between 0.1 and -0.1\n",
    "plt.fill_between(np.arange(x_start, x_end, 0.1), -0.1, 0.1, color='gray', alpha=0.5)\n",
    "\n",
    "# Add vertical lines from the points to the x-axis\n",
    "for i in range(1, 7):\n",
    "    plt.vlines(i, 0, partial_corrs[i-1], color='blue')\n",
    "\n",
    "plt.show()"
   ]
  },
  {
   "cell_type": "markdown",
   "metadata": {},
   "source": [
    "<h2>A parciális korreláció plot alapján eldönthető, hogy hány Lag Feature-t érdemes használni a modellekben. Jelen esetben a Lag6 feature hamis pozitívnak tekinthető.</h2>"
   ]
  },
  {
   "cell_type": "code",
   "execution_count": 17,
   "metadata": {},
   "outputs": [],
   "source": [
    "def regression_model_fit(train_data, features, target, model=None):\n",
    "    \"\"\"\n",
    "    Fits a regression model to the training data.\n",
    "    \n",
    "    Parameters:\n",
    "    train_data: DataFrame - the training data\n",
    "    features: list - the list of features to train the model on\n",
    "    target: str - the name of the target column\n",
    "    model: a scikit-learn model (default is LinearRegression)\n",
    "    \n",
    "    Returns:\n",
    "    model: the fitted regression model\n",
    "    \"\"\"\n",
    "    X = train_data[features]\n",
    "    y = train_data[target]\n",
    "\n",
    "    # Use the passed model or default to LinearRegression\n",
    "    if model is None:\n",
    "        model = LinearRegression()\n",
    "\n",
    "    model.fit(X, y)\n",
    "\n",
    "    return model"
   ]
  },
  {
   "cell_type": "code",
   "execution_count": 18,
   "metadata": {},
   "outputs": [],
   "source": [
    "def regression_model_predict(model, X_test, features):\n",
    "    \"\"\"\n",
    "    Makes predictions using the fitted regression model.\n",
    "    \n",
    "    Parameters:\n",
    "    model: the fitted regression model\n",
    "    X_test: DataFrame - the test data\n",
    "    features: list - the list of features to use for prediction\n",
    "    \n",
    "    Returns:\n",
    "    predictions: array - predicted values\n",
    "    \"\"\"\n",
    "    X = X_test[features]\n",
    "    predictions = model.predict(X)\n",
    "    \n",
    "    return predictions\n"
   ]
  },
  {
   "cell_type": "code",
   "execution_count": 97,
   "metadata": {},
   "outputs": [
    {
     "name": "stdout",
     "output_type": "stream",
     "text": [
      "[['LapNumber'], ['StintLapNumber'], ['TyreLife'], ['LapNumber', 'StintLapNumber'], ['LapNumber', 'TyreLife'], ['StintLapNumber', 'TyreLife'], ['LapNumber', 'StintLapNumber', 'TyreLife']]\n"
     ]
    }
   ],
   "source": [
    "df_race['StintLapNumber'] = df_race.groupby(['Driver', 'Stint']).cumcount()+1\n",
    "time_dummies = ['LapNumber', 'StintLapNumber', 'TyreLife']\n",
    "time_combos = []\n",
    "for i in range(1, len(time_dummies)+1):\n",
    "    combos = itertools.combinations(time_dummies,i)\n",
    "    for combo in combos:\n",
    "        time_combos.append(list(combo))\n",
    "\n",
    "print(time_combos)"
   ]
  },
  {
   "cell_type": "code",
   "execution_count": 37,
   "metadata": {},
   "outputs": [
    {
     "name": "stdout",
     "output_type": "stream",
     "text": [
      "Combination 1: ['LapNumber']\n",
      "Combination 2: ['LapNumber', 'StintMedian']\n",
      "Combination 3: ['LapNumber', 'LapTime_Lag1']\n",
      "Combination 4: ['LapNumber', 'LapTime_Lag2']\n",
      "Combination 5: ['LapNumber', 'LapTime_Lag3']\n",
      "Combination 6: ['LapNumber', 'RollingMean']\n",
      "Combination 7: ['LapNumber', 'StintMean']\n",
      "Combination 8: ['LapNumber', 'StintMedian', 'LapTime_Lag1']\n",
      "Combination 9: ['LapNumber', 'StintMedian', 'LapTime_Lag2']\n",
      "Combination 10: ['LapNumber', 'StintMedian', 'LapTime_Lag3']\n",
      "Combination 11: ['LapNumber', 'StintMedian', 'RollingMean']\n",
      "Combination 12: ['LapNumber', 'StintMedian', 'StintMean']\n",
      "Combination 13: ['LapNumber', 'LapTime_Lag1', 'LapTime_Lag2']\n",
      "Combination 14: ['LapNumber', 'LapTime_Lag1', 'LapTime_Lag3']\n",
      "Combination 15: ['LapNumber', 'LapTime_Lag1', 'RollingMean']\n",
      "Combination 16: ['LapNumber', 'LapTime_Lag1', 'StintMean']\n",
      "Combination 17: ['LapNumber', 'LapTime_Lag2', 'LapTime_Lag3']\n",
      "Combination 18: ['LapNumber', 'LapTime_Lag2', 'RollingMean']\n",
      "Combination 19: ['LapNumber', 'LapTime_Lag2', 'StintMean']\n",
      "Combination 20: ['LapNumber', 'LapTime_Lag3', 'RollingMean']\n",
      "Combination 21: ['LapNumber', 'LapTime_Lag3', 'StintMean']\n",
      "Combination 22: ['LapNumber', 'RollingMean', 'StintMean']\n",
      "Combination 23: ['LapNumber', 'StintMedian', 'LapTime_Lag1', 'LapTime_Lag2']\n",
      "Combination 24: ['LapNumber', 'StintMedian', 'LapTime_Lag1', 'LapTime_Lag3']\n",
      "Combination 25: ['LapNumber', 'StintMedian', 'LapTime_Lag1', 'RollingMean']\n",
      "Combination 26: ['LapNumber', 'StintMedian', 'LapTime_Lag1', 'StintMean']\n",
      "Combination 27: ['LapNumber', 'StintMedian', 'LapTime_Lag2', 'LapTime_Lag3']\n",
      "Combination 28: ['LapNumber', 'StintMedian', 'LapTime_Lag2', 'RollingMean']\n",
      "Combination 29: ['LapNumber', 'StintMedian', 'LapTime_Lag2', 'StintMean']\n",
      "Combination 30: ['LapNumber', 'StintMedian', 'LapTime_Lag3', 'RollingMean']\n",
      "Combination 31: ['LapNumber', 'StintMedian', 'LapTime_Lag3', 'StintMean']\n",
      "Combination 32: ['LapNumber', 'StintMedian', 'RollingMean', 'StintMean']\n",
      "Combination 33: ['LapNumber', 'LapTime_Lag1', 'LapTime_Lag2', 'LapTime_Lag3']\n",
      "Combination 34: ['LapNumber', 'LapTime_Lag1', 'LapTime_Lag2', 'RollingMean']\n",
      "Combination 35: ['LapNumber', 'LapTime_Lag1', 'LapTime_Lag2', 'StintMean']\n",
      "Combination 36: ['LapNumber', 'LapTime_Lag1', 'LapTime_Lag3', 'RollingMean']\n",
      "Combination 37: ['LapNumber', 'LapTime_Lag1', 'LapTime_Lag3', 'StintMean']\n",
      "Combination 38: ['LapNumber', 'LapTime_Lag1', 'RollingMean', 'StintMean']\n",
      "Combination 39: ['LapNumber', 'LapTime_Lag2', 'LapTime_Lag3', 'RollingMean']\n",
      "Combination 40: ['LapNumber', 'LapTime_Lag2', 'LapTime_Lag3', 'StintMean']\n",
      "Combination 41: ['LapNumber', 'LapTime_Lag2', 'RollingMean', 'StintMean']\n",
      "Combination 42: ['LapNumber', 'LapTime_Lag3', 'RollingMean', 'StintMean']\n",
      "Combination 43: ['LapNumber', 'StintMedian', 'LapTime_Lag1', 'LapTime_Lag2', 'LapTime_Lag3']\n",
      "Combination 44: ['LapNumber', 'StintMedian', 'LapTime_Lag1', 'LapTime_Lag2', 'RollingMean']\n",
      "Combination 45: ['LapNumber', 'StintMedian', 'LapTime_Lag1', 'LapTime_Lag2', 'StintMean']\n",
      "Combination 46: ['LapNumber', 'StintMedian', 'LapTime_Lag1', 'LapTime_Lag3', 'RollingMean']\n",
      "Combination 47: ['LapNumber', 'StintMedian', 'LapTime_Lag1', 'LapTime_Lag3', 'StintMean']\n",
      "Combination 48: ['LapNumber', 'StintMedian', 'LapTime_Lag1', 'RollingMean', 'StintMean']\n",
      "Combination 49: ['LapNumber', 'StintMedian', 'LapTime_Lag2', 'LapTime_Lag3', 'RollingMean']\n",
      "Combination 50: ['LapNumber', 'StintMedian', 'LapTime_Lag2', 'LapTime_Lag3', 'StintMean']\n",
      "Combination 51: ['LapNumber', 'StintMedian', 'LapTime_Lag2', 'RollingMean', 'StintMean']\n",
      "Combination 52: ['LapNumber', 'StintMedian', 'LapTime_Lag3', 'RollingMean', 'StintMean']\n",
      "Combination 53: ['LapNumber', 'LapTime_Lag1', 'LapTime_Lag2', 'LapTime_Lag3', 'RollingMean']\n",
      "Combination 54: ['LapNumber', 'LapTime_Lag1', 'LapTime_Lag2', 'LapTime_Lag3', 'StintMean']\n",
      "Combination 55: ['LapNumber', 'LapTime_Lag1', 'LapTime_Lag2', 'RollingMean', 'StintMean']\n",
      "Combination 56: ['LapNumber', 'LapTime_Lag1', 'LapTime_Lag3', 'RollingMean', 'StintMean']\n",
      "Combination 57: ['LapNumber', 'LapTime_Lag2', 'LapTime_Lag3', 'RollingMean', 'StintMean']\n",
      "Combination 58: ['LapNumber', 'StintMedian', 'LapTime_Lag1', 'LapTime_Lag2', 'LapTime_Lag3', 'RollingMean']\n",
      "Combination 59: ['LapNumber', 'StintMedian', 'LapTime_Lag1', 'LapTime_Lag2', 'LapTime_Lag3', 'StintMean']\n",
      "Combination 60: ['LapNumber', 'StintMedian', 'LapTime_Lag1', 'LapTime_Lag2', 'RollingMean', 'StintMean']\n",
      "Combination 61: ['LapNumber', 'StintMedian', 'LapTime_Lag1', 'LapTime_Lag3', 'RollingMean', 'StintMean']\n",
      "Combination 62: ['LapNumber', 'StintMedian', 'LapTime_Lag2', 'LapTime_Lag3', 'RollingMean', 'StintMean']\n",
      "Combination 63: ['LapNumber', 'LapTime_Lag1', 'LapTime_Lag2', 'LapTime_Lag3', 'RollingMean', 'StintMean']\n",
      "Combination 64: ['LapNumber', 'StintMedian', 'LapTime_Lag1', 'LapTime_Lag2', 'LapTime_Lag3', 'RollingMean', 'StintMean']\n"
     ]
    }
   ],
   "source": [
    "import itertools\n",
    "\n",
    "# Feature list with LapNumber always included\n",
    "base_feature = ['LapNumber']\n",
    "other_features = ['StintMedian', 'LapTime_Lag1', 'LapTime_Lag2', \n",
    "                  'LapTime_Lag3', 'RollingMean', 'StintMean']\n",
    "\n",
    "# Generate all possible combinations of other features\n",
    "feature_combinations = []\n",
    "feature_combinations.append(base_feature)\n",
    "for r in range(1, len(other_features) + 1):\n",
    "    combos = itertools.combinations(other_features, r)\n",
    "    for combo in combos:\n",
    "        feature_combinations.append(base_feature + list(combo))\n",
    "\n",
    "# Print all feature combinations\n",
    "for i, features in enumerate(feature_combinations, 1):\n",
    "    print(f\"Combination {i}: {features}\")\n"
   ]
  },
  {
   "cell_type": "code",
   "execution_count": null,
   "metadata": {},
   "outputs": [],
   "source": [
    "import pandas as pd\n",
    "from sklearn.metrics import mean_absolute_error, mean_squared_error\n",
    "\n",
    "def calculate_metrics(predictions_df, actual_lap_times_df):\n",
    "    # Merge predictions with actual lap times\n",
    "    merged_df = pd.merge(predictions_df, actual_lap_times_df[['Driver', 'LapNumber', 'LapTime']],\n",
    "                         on=['Driver', 'LapNumber'], how='left', suffixes=('_pred', '_actual'))\n",
    "\n",
    "    # Group by FeatureSetIndex and Bucket\n",
    "    grouped = merged_df.groupby(['FeatureSetIndex', 'Bucket'])\n",
    "\n",
    "    # Initialize lists to store metrics\n",
    "    mae_list = []\n",
    "    mse_list = []\n",
    "\n",
    "    # Loop through each group and calculate metrics\n",
    "    for (featureset_index, bucket), group in grouped:\n",
    "        actual = group['LapTime_actual']\n",
    "        predicted = group['PredictedLapTime']\n",
    "        \n",
    "        mae = mean_absolute_error(actual, predicted)\n",
    "        mse = mean_squared_error(actual, predicted)\n",
    "        \n",
    "        mae_list.append({'FeatureSetIndex': featureset_index, 'Bucket': bucket, 'MAE': mae})\n",
    "        mse_list.append({'FeatureSetIndex': featureset_index, 'Bucket': bucket, 'MSE': mse})\n",
    "\n",
    "    # Convert lists to DataFrames\n",
    "    mae_df = pd.DataFrame(mae_list)\n",
    "    mse_df = pd.DataFrame(mse_list)\n",
    "\n",
    "    # Merge MAE and MSE results into a single DataFrame\n",
    "    metrics_df = pd.merge(mae_df, mse_df, on=['FeatureSetIndex', 'Bucket'])\n",
    "    \n",
    "    return metrics_df\n"
   ]
  },
  {
   "cell_type": "code",
   "execution_count": 75,
   "metadata": {},
   "outputs": [],
   "source": [
    "def make_predictions_for_race(df_race, feature_combinations, target='LapTime', min_lap=10, max_forecast_laps=25, bucket_size=5):\n",
    "    # Create a DataFrame to store predictions\n",
    "    \n",
    "    unique_drivers = df_race['Driver'].unique()\n",
    "    predictions_list = []\n",
    "\n",
    "    # Loop over each driver\n",
    "    for driver in unique_drivers:\n",
    "        df_driver = df_race[df_race['Driver'] == driver].copy()\n",
    "        total_laps = int(df_driver['LapNumber'].max())\n",
    "\n",
    "        # Start fitting and predicting after lap 10\n",
    "        for current_lap in range(min_lap + 1, total_laps + 1):\n",
    "            # Fit models and predict for each feature set\n",
    "            for i, feature_set in enumerate(feature_combinations):\n",
    "                # Get training data for laps <= current_lap\n",
    "                train_data = df_driver[(df_driver['LapNumber'] > 1) &\n",
    "                                       (df_driver['LapNumber'] <= current_lap)]\n",
    "                \n",
    "                # Fit the model on the available data\n",
    "                model = regression_model_fit(train_data, feature_set, target)\n",
    "                \n",
    "                # Determine how many laps to forecast\n",
    "                remaining_laps = total_laps - current_lap\n",
    "                forecast_laps = min(remaining_laps, max_forecast_laps)\n",
    "\n",
    "                # Create test data for the forecast range\n",
    "                X_test = df_driver[(df_driver['LapNumber'] > current_lap) & \n",
    "                                   (df_driver['LapNumber'] <= current_lap + forecast_laps)]\n",
    "\n",
    "                # Skip if no laps left to forecast\n",
    "                if X_test.empty:\n",
    "                    continue\n",
    "                \n",
    "                # Predict the lap times\n",
    "                predicted_laps = regression_model_predict(model, X_test, feature_set)\n",
    "\n",
    "                # Store predictions in the DataFrame, with bucket information\n",
    "                for lap_num, pred in zip(X_test['LapNumber'], predicted_laps):\n",
    "                    \n",
    "                    laps_ahead = lap_num - current_lap\n",
    "                    bucket = (laps_ahead // bucket_size) + 1\n",
    "\n",
    "                    predictions_list.append({\n",
    "                        'Driver': driver,\n",
    "                        'LapNumber': lap_num,\n",
    "                        'FeatureSetIndex': i,\n",
    "                        'PredictedLapTime': pred,\n",
    "                        'Bucket': bucket\n",
    "                    })\n",
    "    predictions_df = pd.DataFrame(predictions_list)\n",
    "\n",
    "\n",
    "    return predictions_df\n"
   ]
  },
  {
   "cell_type": "code",
   "execution_count": null,
   "metadata": {},
   "outputs": [],
   "source": [
    "df_race = df_race.dropna(subset=other_features)"
   ]
  },
  {
   "cell_type": "code",
   "execution_count": 98,
   "metadata": {},
   "outputs": [],
   "source": [
    "abu_dummies = make_predictions_for_race(df_race, time_combos)"
   ]
  },
  {
   "cell_type": "code",
   "execution_count": 77,
   "metadata": {},
   "outputs": [
    {
     "name": "stdout",
     "output_type": "stream",
     "text": [
      "<class 'pandas.core.frame.DataFrame'>\n",
      "RangeIndex: 1081728 entries, 0 to 1081727\n",
      "Data columns (total 5 columns):\n",
      " #   Column            Non-Null Count    Dtype  \n",
      "---  ------            --------------    -----  \n",
      " 0   Driver            1081728 non-null  object \n",
      " 1   LapNumber         1081728 non-null  float64\n",
      " 2   FeatureSetIndex   1081728 non-null  int64  \n",
      " 3   PredictedLapTime  1081728 non-null  float64\n",
      " 4   Bucket            1081728 non-null  float64\n",
      "dtypes: float64(3), int64(1), object(1)\n",
      "memory usage: 41.3+ MB\n"
     ]
    }
   ],
   "source": [
    "abu_predictions.info()"
   ]
  },
  {
   "cell_type": "code",
   "execution_count": 56,
   "metadata": {},
   "outputs": [],
   "source": [
    "from sklearn.metrics import mean_absolute_error, mean_squared_error\n",
    "\n",
    "def calculate_metrics(predictions_df, actual_lap_times_df, slow_lap_threshold=1.07):\n",
    "    # Identify the fastest lap for each driver\n",
    "    fastest_lap_times = actual_lap_times_df.groupby('Driver')['LapTime'].min()\n",
    "\n",
    "    # Calculate the max allowed LapTime for each driver (slow lap threshold)\n",
    "    actual_lap_times_df = actual_lap_times_df.copy()\n",
    "    actual_lap_times_df['MaxAllowedLapTime'] = actual_lap_times_df['Driver'].map(fastest_lap_times) * slow_lap_threshold\n",
    "\n",
    "    # Filter out slow laps in the actual data\n",
    "    actual_lap_times_df = actual_lap_times_df[actual_lap_times_df['LapTime'] <= actual_lap_times_df['MaxAllowedLapTime']]\n",
    "\n",
    "    # Merge predictions with filtered actual lap times\n",
    "    merged_df = pd.merge(predictions_df, actual_lap_times_df[['Driver', 'LapNumber', 'LapTime']],\n",
    "                         on=['Driver', 'LapNumber'], how='left')\n",
    "\n",
    "    # Group by FeatureSetIndex and Bucket\n",
    "    grouped = merged_df.groupby(['FeatureSetIndex', 'Bucket'])\n",
    "\n",
    "    # Initialize lists to store metrics\n",
    "    mae_list = []\n",
    "    mse_list = []\n",
    "\n",
    "    # Loop through each group and calculate metrics\n",
    "    for (featureset_index, bucket), group in grouped:\n",
    "        actual = group['LapTime']  # This is the actual lap time\n",
    "        predicted = group['PredictedLapTime']  # This is the predicted lap time\n",
    "        \n",
    "        mae = mean_absolute_error(actual.dropna(), predicted[actual.notna()])  # Ensure no NaN in the metrics\n",
    "        mse = mean_squared_error(actual.dropna(), predicted[actual.notna()])\n",
    "        \n",
    "        mae_list.append({'FeatureSetIndex': featureset_index, 'Bucket': bucket, 'MAE': mae})\n",
    "        mse_list.append({'FeatureSetIndex': featureset_index, 'Bucket': bucket, 'MSE': mse})\n",
    "\n",
    "    # Convert lists to DataFrames\n",
    "    mae_df = pd.DataFrame(mae_list)\n",
    "    mse_df = pd.DataFrame(mse_list)\n",
    "\n",
    "    # Merge MAE and MSE results into a single DataFrame\n",
    "    metrics_df = pd.merge(mae_df, mse_df, on=['FeatureSetIndex', 'Bucket'])\n",
    "    \n",
    "    return metrics_df\n"
   ]
  },
  {
   "cell_type": "code",
   "execution_count": 83,
   "metadata": {},
   "outputs": [],
   "source": [
    "abu_metrics = calculate_metrics(abu_predictions, df_race)"
   ]
  },
  {
   "cell_type": "code",
   "execution_count": 101,
   "metadata": {},
   "outputs": [
    {
     "name": "stdout",
     "output_type": "stream",
     "text": [
      "                 Bucket   MAE   MSE\n",
      "FeatureSetIndex                    \n",
      "0                 3.500 1.253 3.570\n",
      "2                 3.500 1.308 5.513\n",
      "4                 3.500 1.422 4.621\n",
      "3                 3.500 1.426 5.733\n",
      "5                 3.500 1.486 6.354\n",
      "12                3.500 1.518 7.848\n",
      "17                3.500 1.521 6.981\n",
      "6                 3.500 1.547 6.068\n",
      "21                3.500 1.551 8.395\n",
      "40                3.500 1.552 8.453\n"
     ]
    }
   ],
   "source": [
    "best_10_featureset = abu_metrics.groupby(['FeatureSetIndex']).mean().sort_values('MAE').head(10)\n",
    "print(best_10_featureset)"
   ]
  },
  {
   "cell_type": "code",
   "execution_count": 100,
   "metadata": {},
   "outputs": [
    {
     "name": "stdout",
     "output_type": "stream",
     "text": [
      "                 Bucket               MAE                              MSE\n",
      "FeatureSetIndex                                                           \n",
      "0                 3.500             1.253                            3.570\n",
      "2                 3.500             1.727                            3.839\n",
      "1                 3.500             1.758                            4.036\n",
      "5                 3.500  192155959348.787   13300388395198781784588288.000\n",
      "6                 3.500  693506076130.170  256073354920900280488820736.000\n",
      "3                 3.500 1615777282548.856  973345278994000371448283136.000\n",
      "4                 3.500 1807933241895.688 1213004927645606330687815680.000\n"
     ]
    }
   ],
   "source": [
    "dummie_scores = calculate_metrics(abu_dummies, df_race)\n",
    "best_10_featureset = dummie_scores.groupby(['FeatureSetIndex']).mean().sort_values('MAE').head(10)\n",
    "print(best_10_featureset)"
   ]
  },
  {
   "cell_type": "code",
   "execution_count": 81,
   "metadata": {},
   "outputs": [
    {
     "data": {
      "image/png": "[encoded data removed]",
      "text/plain": [
       "<Figure size 1000x600 with 1 Axes>"
      ]
     },
     "metadata": {},
     "output_type": "display_data"
    }
   ],
   "source": [
    "plt.figure(figsize=(10, 6))\n",
    "sns.scatterplot(data=abu_metrics, x='FeatureSetIndex', y='MSE', hue='Bucket', palette='viridis')\n",
    "plt.ylim(0.25, 2)\n",
    "plt.grid(visible=True, which='major', axis='y', linestyle='--')\n",
    "\n",
    "plt.title('MSE per feature set')\n",
    "plt.legend(title='Bucket')\n",
    "plt.show()"
   ]
  },
  {
   "cell_type": "code",
   "execution_count": 166,
   "metadata": {},
   "outputs": [
    {
     "name": "stdout",
     "output_type": "stream",
     "text": [
      "<class 'pandas.core.frame.DataFrame'>\n",
      "Index: 800 entries, 5 to 891\n",
      "Data columns (total 17 columns):\n",
      " #   Column                 Non-Null Count  Dtype  \n",
      "---  ------                 --------------  -----  \n",
      " 0   DriverNumber           800 non-null    int64  \n",
      " 1   LapTime                800 non-null    float64\n",
      " 2   LapNumber              800 non-null    float64\n",
      " 3   Stint                  800 non-null    float64\n",
      " 4   SpeedFL                800 non-null    float64\n",
      " 5   Compound               800 non-null    int64  \n",
      " 6   TyreLife               800 non-null    float64\n",
      " 7   FreshTyre              800 non-null    bool   \n",
      " 8   Team                   800 non-null    int64  \n",
      " 9   Position               800 non-null    float64\n",
      " 10  LapTime_Lag1           800 non-null    float64\n",
      " 11  LapTime_Lag2           800 non-null    float64\n",
      " 12  LapTime_Lag3           800 non-null    float64\n",
      " 13  LapTime_Lag4           800 non-null    float64\n",
      " 14  LapTime_Lag5           800 non-null    float64\n",
      " 15  LapTime_RollingMean_3  800 non-null    float64\n",
      " 16  StintAverage           800 non-null    float64\n",
      "dtypes: bool(1), float64(13), int64(3)\n",
      "memory usage: 107.0 KB\n"
     ]
    },
    {
     "name": "stderr",
     "output_type": "stream",
     "text": [
      "/var/folders/80/nwtb7gx54bg06b5y_lyjvwt40000gn/T/ipykernel_17082/3447590014.py:18: FutureWarning: Downcasting behavior in `replace` is deprecated and will be removed in a future version. To retain the old behavior, explicitly call `result.infer_objects(copy=False)`. To opt-in to the future behavior, set `pd.set_option('future.no_silent_downcasting', True)`\n",
      "  filtered_df['Team'] = filtered_df['Team'].replace(team_standings_map)\n",
      "/var/folders/80/nwtb7gx54bg06b5y_lyjvwt40000gn/T/ipykernel_17082/3447590014.py:18: SettingWithCopyWarning: \n",
      "A value is trying to be set on a copy of a slice from a DataFrame.\n",
      "Try using .loc[row_indexer,col_indexer] = value instead\n",
      "\n",
      "See the caveats in the documentation: https://pandas.pydata.org/pandas-docs/stable/user_guide/indexing.html#returning-a-view-versus-a-copy\n",
      "  filtered_df['Team'] = filtered_df['Team'].replace(team_standings_map)\n",
      "/var/folders/80/nwtb7gx54bg06b5y_lyjvwt40000gn/T/ipykernel_17082/3286590795.py:13: DeprecationWarning: DataFrameGroupBy.apply operated on the grouping columns. This behavior is deprecated, and in a future version of pandas the grouping columns will be excluded from the operation. Either pass `include_groups=False` to exclude the groupings or explicitly select the grouping columns after groupby to silence this warning.\n",
      "  df = df.groupby(['Year', 'RaceName', 'Driver']).apply(custom_rolling)\n"
     ]
    }
   ],
   "source": [
    "df_race = filter_for_race(df_all, 'Mexico City Grand Prix', 2021, team_encode=True)\n",
    "df_race = remove_slow_laps(df_race)\n",
    "df_race = add_lags(df_race, 5)\n",
    "df_race = add_rolling_mean(df_race, 3)\n",
    "df_race = add_stint_mean(df_race)\n",
    "\n",
    "cols = ['DriverNumber', 'LapTime', 'LapNumber', 'Stint', \n",
    "       'SpeedFL', 'Compound', 'TyreLife',\n",
    "       'FreshTyre', 'Team', 'Position', 'LapTime_Lag1',\n",
    "       'LapTime_Lag2',\n",
    "        'LapTime_Lag3', \n",
    "        'LapTime_Lag4', \n",
    "       'LapTime_Lag5',  'LapTime_RollingMean_3',\n",
    "       'StintAverage']\n",
    "df = df_race[cols].dropna()\n",
    "df.info()"
   ]
  },
  {
   "cell_type": "code",
   "execution_count": 148,
   "metadata": {},
   "outputs": [],
   "source": [
    "mi_scores_df = pd.DataFrame(columns=['Feature', 'Score'])"
   ]
  },
  {
   "cell_type": "code",
   "execution_count": 167,
   "metadata": {},
   "outputs": [
    {
     "name": "stdout",
     "output_type": "stream",
     "text": [
      "<class 'pandas.core.frame.DataFrame'>\n",
      "RangeIndex: 144 entries, 0 to 143\n",
      "Data columns (total 2 columns):\n",
      " #   Column   Non-Null Count  Dtype  \n",
      "---  ------   --------------  -----  \n",
      " 0   Feature  144 non-null    object \n",
      " 1   Score    144 non-null    float64\n",
      "dtypes: float64(1), object(1)\n",
      "memory usage: 2.4+ KB\n"
     ]
    }
   ],
   "source": [
    "#import pandas as pd\n",
    "from sklearn.feature_selection import mutual_info_regression\n",
    "#from sklearn.preprocessing import OneHotEncoder\n",
    "#from sklearn.compose import ColumnTransformer\n",
    "from sklearn.pipeline import make_pipeline\n",
    "#from sklearn.preprocessing import StandardScaler\n",
    "\n",
    "# Load your data\n",
    "\n",
    "\n",
    "# Assume 'Compound' and 'Team' are the categorical features to be encoded\n",
    "#categorical_features = ['Compound', 'Team']\n",
    "\n",
    "# Setup the preprocessor\n",
    "#preprocessor = ColumnTransformer(\n",
    "#    transformers=[\n",
    "#        ('num', StandardScaler(), ['LapNumber', 'LapTime_Lag1', 'LapTime_Lag2', 'LapTime_Lag3', 'StintAverage']),  # Numeric features\n",
    "#        ('cat', OneHotEncoder(), categorical_features)  # Categorical features\n",
    "#    ])\n",
    "\n",
    "# Apply preprocessing\n",
    "#X = preprocessor.fit_transform(data.drop(['LapTime'], axis=1))\n",
    "#y = data['LapTime']\n",
    "\n",
    "X = df[cols].drop(['LapTime'], axis=1)\n",
    "y = df['LapTime']\n",
    "\n",
    "features = X.columns.tolist()\n",
    "\n",
    "# Compute Mutual Information\n",
    "mi_scores = mutual_info_regression(X, y)\n",
    "\n",
    "# Get feature names after one-hot encoding\n",
    "#feature_names = (['LapNumber', 'LapTime_Lag1', 'LapTime_Lag2', 'LapTime_Lag3', 'StintAverage'] +\n",
    "#                 list(preprocessor.named_transformers_['cat'].get_feature_names(categorical_features)))\n",
    "\n",
    "# Create a Series for the scores\n",
    "temp_df = pd.DataFrame({\n",
    "    'Feature': features,\n",
    "    'Score': mi_scores\n",
    "})\n",
    "mi_scores_df = pd.concat([mi_scores_df, temp_df], ignore_index=True)\n",
    "# Print the scores\n",
    "mi_scores_df.info()\n"
   ]
  },
  {
   "cell_type": "code",
   "execution_count": 168,
   "metadata": {},
   "outputs": [
    {
     "name": "stdout",
     "output_type": "stream",
     "text": [
      "                  Feature  Score\n",
      "9   LapTime_RollingMean_3  1.180\n",
      "4            LapTime_Lag1  0.797\n",
      "13           StintAverage  0.787\n",
      "5            LapTime_Lag2  0.623\n",
      "6            LapTime_Lag3  0.508\n",
      "7            LapTime_Lag4  0.434\n",
      "8            LapTime_Lag5  0.387\n",
      "3               LapNumber  0.333\n",
      "1            DriverNumber  0.298\n",
      "10               Position  0.275\n",
      "14                   Team  0.262\n",
      "12                  Stint  0.219\n",
      "11                SpeedFL  0.188\n",
      "15               TyreLife  0.122\n",
      "0                Compound  0.061\n",
      "2               FreshTyre  0.028\n"
     ]
    }
   ],
   "source": [
    "# Calculate the mean MI score for each feature\n",
    "mean_mi_scores = mi_scores_df.groupby('Feature')['Score'].mean().reset_index()\n",
    "mean_mi_scores = mean_mi_scores.sort_values(by='Score', ascending=False)\n",
    "# Print the mean MI scores\n",
    "print(mean_mi_scores)"
   ]
  },
  {
   "cell_type": "code",
   "execution_count": 22,
   "metadata": {},
   "outputs": [],
   "source": [
    "xg_features = ['LapTime_RollingMean_3',\n",
    "               'LapTime_Lag1',\n",
    "               'StintAverage',\n",
    "               'LapTime_Lag2',\n",
    "               'LapTime_Lag3',\n",
    "               'LapTime_Lag4',\n",
    "               'LapTime_Lag5',\n",
    "               'LapNumber',\n",
    "               'Driver',\n",
    "               'Position',\n",
    "               'Team'\n",
    "              ]"
   ]
  },
  {
   "cell_type": "code",
   "execution_count": 23,
   "metadata": {},
   "outputs": [],
   "source": [
    "def get_xg_pipeline(colsample_bytree=0.5, learning_rate=0.3, max_depth=6, alpha=15, n_estimators=5000, min_child_weight=30):\n",
    "    # Encoding categorical data\n",
    "    categorical_feature = ['Driver']\n",
    "    one_hot_encoder = OneHotEncoder()\n",
    "\n",
    "    # Column transformer to apply transformations to the appropriate columns\n",
    "    preprocessor = ColumnTransformer(\n",
    "        transformers=[\n",
    "            ('cat', one_hot_encoder, categorical_feature)],\n",
    "        remainder='passthrough')\n",
    "\n",
    "    # Initialize XGBoost model\n",
    "    model = xgb.XGBRegressor(objective='reg:squarederror', colsample_bytree=colsample_bytree, learning_rate=learning_rate,\n",
    "                            max_depth=max_depth, alpha=alpha, n_estimators=n_estimators, min_child_weight=min_child_weight)\n",
    "\n",
    "    # Combine preprocessor and model into a pipeline\n",
    "    model_pipeline = Pipeline(steps=[('preprocessor', preprocessor),\n",
    "                                    ('regressor', model)])\n",
    "\n",
    "    return model_pipeline"
   ]
  },
  {
   "cell_type": "code",
   "execution_count": 24,
   "metadata": {},
   "outputs": [],
   "source": [
    "def train_xg(df_race, features):\n",
    "    # Define features and target variable\n",
    "    X = df_race[features]\n",
    "    y = df_race['LapTime']\n",
    "\n",
    "    # Fit the model\n",
    "    model_pipeline = get_xg_pipeline(colsample_bytree=0.8, learning_rate=0.2, max_depth=4, alpha=0, n_estimators=500, min_child_weight=1)\n",
    "    model_pipeline.fit(X, y)\n",
    "\n",
    "    return model_pipeline\n"
   ]
  },
  {
   "cell_type": "code",
   "execution_count": 37,
   "metadata": {},
   "outputs": [],
   "source": [
    "def xg_predict(model_pipeline, df_race, xg_features, driver, num_future_laps):\n",
    "    \n",
    "    # Initialize feature set for the first prediction\n",
    "    features = df_race.loc[df_race['Driver'] == driver].iloc[-1]  # Get the last record of selected driver\n",
    "    predictions = []\n",
    "\n",
    "    # A jelenlegi stint köridejei\n",
    "    current_stint = features['Stint']\n",
    "    stint_laptimes = df_race.loc[(df_race['Driver'] == driver) & (df_race['Stint'] == current_stint), 'LapTime']\n",
    "\n",
    "    features['LapTime_Lag5'] = features['LapTime_Lag4']\n",
    "    features['LapTime_Lag4'] = features['LapTime_Lag3']\n",
    "    features['LapTime_Lag3'] = features['LapTime_Lag2']\n",
    "    features['LapTime_Lag2'] = features['LapTime_Lag1']\n",
    "    features['LapTime_Lag1'] = features['LapTime']\n",
    "    features['LapNumber'] += 1\n",
    "\n",
    "    for i in range(num_future_laps):\n",
    "        # Update features for the prediction\n",
    "        lap_features = pd.DataFrame([features], columns=features.index)\n",
    "        lap_features = lap_features[xg_features]\n",
    "        \n",
    "        # Predict the next lap time\n",
    "        next_lap_time = model_pipeline.predict(lap_features)[0]\n",
    "        predictions.append(next_lap_time)\n",
    "\n",
    "        # Update features for the next lap\n",
    "        features['LapTime_RollingMean_3'] = (next_lap_time + features['LapTime_Lag1'] + features['LapTime_Lag2']) / 3\n",
    "        features['LapTime_Lag5'] = features['LapTime_Lag4']\n",
    "        features['LapTime_Lag4'] = features['LapTime_Lag3']\n",
    "        features['LapTime_Lag3'] = features['LapTime_Lag2']\n",
    "        features['LapTime_Lag2'] = features['LapTime_Lag1']\n",
    "        features['LapTime_Lag1'] = next_lap_time\n",
    "        features['LapNumber'] += 1\n",
    "\n",
    "        # Update StintAverage\n",
    "        stint_laptimes = pd.concat([stint_laptimes, pd.Series([next_lap_time])])\n",
    "        features['StintAverage'] = stint_laptimes.mean()\n",
    "\n",
    "\n",
    "    # Output predictions\n",
    "    return predictions"
   ]
  },
  {
   "cell_type": "code",
   "execution_count": 26,
   "metadata": {},
   "outputs": [],
   "source": [
    "\n",
    "def xg_train_and_evaluate(train_data, test_data, driver, n_laps_predict, target='LapTime', features=['LapNumber', 'LapTime_Lag1', 'LapTime_Lag2', 'LapTime_RollingMean_3']):\n",
    "    # Train the model\n",
    "    #model = regression_model_fit(train_data, features, target)\n",
    "    #### Use custom function to predict !!!\n",
    "    #predictions = predict_lap_times(model, train_data, 5)\n",
    "    #predictions = regression_model_predict(model, train_data, 5) # not the name of the function\n",
    "    \n",
    "    model_pipeline = train_xg(train_data, xg_features)\n",
    "    \n",
    "    predictions = xg_predict(model_pipeline, train_data, xg_features, driver, n_laps_predict)\n",
    "    \n",
    "    # Calculate the metrics\n",
    "    mae = mean_absolute_error(test_data[target], predictions)\n",
    "    mse = mean_squared_error(test_data[target], predictions)\n",
    "    \n",
    "    # Create a DataFrame for the results\n",
    "    result_df = pd.DataFrame({\n",
    "        'mae': [mae],\n",
    "        'mse': [mse]\n",
    "    })\n",
    "\n",
    "    return predictions, result_df\n"
   ]
  },
  {
   "cell_type": "code",
   "execution_count": 27,
   "metadata": {},
   "outputs": [],
   "source": [
    "def xg_train_test_split(df_race, current_lap):\n",
    "    df_race = remove_slow_laps(df_race)\n",
    "    df_train, df_test = train_test_split(df_race, current_lap)\n",
    "    #df_train = df_train[df_train['Driver'] == driver]\n",
    "    df_test, _ = train_test_split(df_test, current_lap + 5)\n",
    "    #df_test = df_test[df_test['Driver'] == driver]\n",
    "    df_train = add_lags(df_train, 5)\n",
    "    df_train = add_rolling_mean(df_train)\n",
    "    df_train = add_stint_mean(df_train)\n",
    "\n",
    "    return df_train, df_test"
   ]
  },
  {
   "cell_type": "code",
   "execution_count": 357,
   "metadata": {},
   "outputs": [
    {
     "name": "stderr",
     "output_type": "stream",
     "text": [
      "/var/folders/80/nwtb7gx54bg06b5y_lyjvwt40000gn/T/ipykernel_20699/3447590014.py:18: FutureWarning: Downcasting behavior in `replace` is deprecated and will be removed in a future version. To retain the old behavior, explicitly call `result.infer_objects(copy=False)`. To opt-in to the future behavior, set `pd.set_option('future.no_silent_downcasting', True)`\n",
      "  filtered_df['Team'] = filtered_df['Team'].replace(team_standings_map)\n",
      "/var/folders/80/nwtb7gx54bg06b5y_lyjvwt40000gn/T/ipykernel_20699/3447590014.py:18: SettingWithCopyWarning: \n",
      "A value is trying to be set on a copy of a slice from a DataFrame.\n",
      "Try using .loc[row_indexer,col_indexer] = value instead\n",
      "\n",
      "See the caveats in the documentation: https://pandas.pydata.org/pandas-docs/stable/user_guide/indexing.html#returning-a-view-versus-a-copy\n",
      "  filtered_df['Team'] = filtered_df['Team'].replace(team_standings_map)\n",
      "/var/folders/80/nwtb7gx54bg06b5y_lyjvwt40000gn/T/ipykernel_20699/2350675283.py:3: SettingWithCopyWarning: \n",
      "A value is trying to be set on a copy of a slice from a DataFrame\n",
      "\n",
      "See the caveats in the documentation: https://pandas.pydata.org/pandas-docs/stable/user_guide/indexing.html#returning-a-view-versus-a-copy\n",
      "  df.sort_values(by=['Year', 'RaceName', 'Driver', 'LapNumber'], inplace=True)\n",
      "/var/folders/80/nwtb7gx54bg06b5y_lyjvwt40000gn/T/ipykernel_20699/2350675283.py:7: SettingWithCopyWarning: \n",
      "A value is trying to be set on a copy of a slice from a DataFrame.\n",
      "Try using .loc[row_indexer,col_indexer] = value instead\n",
      "\n",
      "See the caveats in the documentation: https://pandas.pydata.org/pandas-docs/stable/user_guide/indexing.html#returning-a-view-versus-a-copy\n",
      "  df[f'LapTime_Lag{i}'] = df.groupby(['Year', 'RaceName', 'Driver'])['LapTime'].shift(i)\n",
      "/var/folders/80/nwtb7gx54bg06b5y_lyjvwt40000gn/T/ipykernel_20699/2350675283.py:8: SettingWithCopyWarning: \n",
      "A value is trying to be set on a copy of a slice from a DataFrame.\n",
      "Try using .loc[row_indexer,col_indexer] = value instead\n",
      "\n",
      "See the caveats in the documentation: https://pandas.pydata.org/pandas-docs/stable/user_guide/indexing.html#returning-a-view-versus-a-copy\n",
      "  df[f'Sector1Time_Lag{i}'] = df.groupby(['Year', 'RaceName', 'Driver'])['Sector1Time'].shift(i)\n",
      "/var/folders/80/nwtb7gx54bg06b5y_lyjvwt40000gn/T/ipykernel_20699/2350675283.py:9: SettingWithCopyWarning: \n",
      "A value is trying to be set on a copy of a slice from a DataFrame.\n",
      "Try using .loc[row_indexer,col_indexer] = value instead\n",
      "\n",
      "See the caveats in the documentation: https://pandas.pydata.org/pandas-docs/stable/user_guide/indexing.html#returning-a-view-versus-a-copy\n",
      "  df[f'Sector2Time_Lag{i}'] = df.groupby(['Year', 'RaceName', 'Driver'])['Sector2Time'].shift(i)\n",
      "/var/folders/80/nwtb7gx54bg06b5y_lyjvwt40000gn/T/ipykernel_20699/2350675283.py:10: SettingWithCopyWarning: \n",
      "A value is trying to be set on a copy of a slice from a DataFrame.\n",
      "Try using .loc[row_indexer,col_indexer] = value instead\n",
      "\n",
      "See the caveats in the documentation: https://pandas.pydata.org/pandas-docs/stable/user_guide/indexing.html#returning-a-view-versus-a-copy\n",
      "  df[f'Sector3Time_Lag{i}'] = df.groupby(['Year', 'RaceName', 'Driver'])['Sector3Time'].shift(i)\n",
      "/var/folders/80/nwtb7gx54bg06b5y_lyjvwt40000gn/T/ipykernel_20699/2350675283.py:7: SettingWithCopyWarning: \n",
      "A value is trying to be set on a copy of a slice from a DataFrame.\n",
      "Try using .loc[row_indexer,col_indexer] = value instead\n",
      "\n",
      "See the caveats in the documentation: https://pandas.pydata.org/pandas-docs/stable/user_guide/indexing.html#returning-a-view-versus-a-copy\n",
      "  df[f'LapTime_Lag{i}'] = df.groupby(['Year', 'RaceName', 'Driver'])['LapTime'].shift(i)\n",
      "/var/folders/80/nwtb7gx54bg06b5y_lyjvwt40000gn/T/ipykernel_20699/2350675283.py:8: SettingWithCopyWarning: \n",
      "A value is trying to be set on a copy of a slice from a DataFrame.\n",
      "Try using .loc[row_indexer,col_indexer] = value instead\n",
      "\n",
      "See the caveats in the documentation: https://pandas.pydata.org/pandas-docs/stable/user_guide/indexing.html#returning-a-view-versus-a-copy\n",
      "  df[f'Sector1Time_Lag{i}'] = df.groupby(['Year', 'RaceName', 'Driver'])['Sector1Time'].shift(i)\n",
      "/var/folders/80/nwtb7gx54bg06b5y_lyjvwt40000gn/T/ipykernel_20699/2350675283.py:9: SettingWithCopyWarning: \n",
      "A value is trying to be set on a copy of a slice from a DataFrame.\n",
      "Try using .loc[row_indexer,col_indexer] = value instead\n",
      "\n",
      "See the caveats in the documentation: https://pandas.pydata.org/pandas-docs/stable/user_guide/indexing.html#returning-a-view-versus-a-copy\n",
      "  df[f'Sector2Time_Lag{i}'] = df.groupby(['Year', 'RaceName', 'Driver'])['Sector2Time'].shift(i)\n",
      "/var/folders/80/nwtb7gx54bg06b5y_lyjvwt40000gn/T/ipykernel_20699/2350675283.py:10: SettingWithCopyWarning: \n",
      "A value is trying to be set on a copy of a slice from a DataFrame.\n",
      "Try using .loc[row_indexer,col_indexer] = value instead\n",
      "\n",
      "See the caveats in the documentation: https://pandas.pydata.org/pandas-docs/stable/user_guide/indexing.html#returning-a-view-versus-a-copy\n",
      "  df[f'Sector3Time_Lag{i}'] = df.groupby(['Year', 'RaceName', 'Driver'])['Sector3Time'].shift(i)\n",
      "/var/folders/80/nwtb7gx54bg06b5y_lyjvwt40000gn/T/ipykernel_20699/2350675283.py:7: SettingWithCopyWarning: \n",
      "A value is trying to be set on a copy of a slice from a DataFrame.\n",
      "Try using .loc[row_indexer,col_indexer] = value instead\n",
      "\n",
      "See the caveats in the documentation: https://pandas.pydata.org/pandas-docs/stable/user_guide/indexing.html#returning-a-view-versus-a-copy\n",
      "  df[f'LapTime_Lag{i}'] = df.groupby(['Year', 'RaceName', 'Driver'])['LapTime'].shift(i)\n",
      "/var/folders/80/nwtb7gx54bg06b5y_lyjvwt40000gn/T/ipykernel_20699/2350675283.py:8: SettingWithCopyWarning: \n",
      "A value is trying to be set on a copy of a slice from a DataFrame.\n",
      "Try using .loc[row_indexer,col_indexer] = value instead\n",
      "\n",
      "See the caveats in the documentation: https://pandas.pydata.org/pandas-docs/stable/user_guide/indexing.html#returning-a-view-versus-a-copy\n",
      "  df[f'Sector1Time_Lag{i}'] = df.groupby(['Year', 'RaceName', 'Driver'])['Sector1Time'].shift(i)\n",
      "/var/folders/80/nwtb7gx54bg06b5y_lyjvwt40000gn/T/ipykernel_20699/2350675283.py:9: SettingWithCopyWarning: \n",
      "A value is trying to be set on a copy of a slice from a DataFrame.\n",
      "Try using .loc[row_indexer,col_indexer] = value instead\n",
      "\n",
      "See the caveats in the documentation: https://pandas.pydata.org/pandas-docs/stable/user_guide/indexing.html#returning-a-view-versus-a-copy\n",
      "  df[f'Sector2Time_Lag{i}'] = df.groupby(['Year', 'RaceName', 'Driver'])['Sector2Time'].shift(i)\n",
      "/var/folders/80/nwtb7gx54bg06b5y_lyjvwt40000gn/T/ipykernel_20699/2350675283.py:10: SettingWithCopyWarning: \n",
      "A value is trying to be set on a copy of a slice from a DataFrame.\n",
      "Try using .loc[row_indexer,col_indexer] = value instead\n",
      "\n",
      "See the caveats in the documentation: https://pandas.pydata.org/pandas-docs/stable/user_guide/indexing.html#returning-a-view-versus-a-copy\n",
      "  df[f'Sector3Time_Lag{i}'] = df.groupby(['Year', 'RaceName', 'Driver'])['Sector3Time'].shift(i)\n",
      "/var/folders/80/nwtb7gx54bg06b5y_lyjvwt40000gn/T/ipykernel_20699/2350675283.py:7: SettingWithCopyWarning: \n",
      "A value is trying to be set on a copy of a slice from a DataFrame.\n",
      "Try using .loc[row_indexer,col_indexer] = value instead\n",
      "\n",
      "See the caveats in the documentation: https://pandas.pydata.org/pandas-docs/stable/user_guide/indexing.html#returning-a-view-versus-a-copy\n",
      "  df[f'LapTime_Lag{i}'] = df.groupby(['Year', 'RaceName', 'Driver'])['LapTime'].shift(i)\n",
      "/var/folders/80/nwtb7gx54bg06b5y_lyjvwt40000gn/T/ipykernel_20699/2350675283.py:8: SettingWithCopyWarning: \n",
      "A value is trying to be set on a copy of a slice from a DataFrame.\n",
      "Try using .loc[row_indexer,col_indexer] = value instead\n",
      "\n",
      "See the caveats in the documentation: https://pandas.pydata.org/pandas-docs/stable/user_guide/indexing.html#returning-a-view-versus-a-copy\n",
      "  df[f'Sector1Time_Lag{i}'] = df.groupby(['Year', 'RaceName', 'Driver'])['Sector1Time'].shift(i)\n",
      "/var/folders/80/nwtb7gx54bg06b5y_lyjvwt40000gn/T/ipykernel_20699/2350675283.py:9: SettingWithCopyWarning: \n",
      "A value is trying to be set on a copy of a slice from a DataFrame.\n",
      "Try using .loc[row_indexer,col_indexer] = value instead\n",
      "\n",
      "See the caveats in the documentation: https://pandas.pydata.org/pandas-docs/stable/user_guide/indexing.html#returning-a-view-versus-a-copy\n",
      "  df[f'Sector2Time_Lag{i}'] = df.groupby(['Year', 'RaceName', 'Driver'])['Sector2Time'].shift(i)\n",
      "/var/folders/80/nwtb7gx54bg06b5y_lyjvwt40000gn/T/ipykernel_20699/2350675283.py:10: SettingWithCopyWarning: \n",
      "A value is trying to be set on a copy of a slice from a DataFrame.\n",
      "Try using .loc[row_indexer,col_indexer] = value instead\n",
      "\n",
      "See the caveats in the documentation: https://pandas.pydata.org/pandas-docs/stable/user_guide/indexing.html#returning-a-view-versus-a-copy\n",
      "  df[f'Sector3Time_Lag{i}'] = df.groupby(['Year', 'RaceName', 'Driver'])['Sector3Time'].shift(i)\n",
      "/var/folders/80/nwtb7gx54bg06b5y_lyjvwt40000gn/T/ipykernel_20699/2350675283.py:7: SettingWithCopyWarning: \n",
      "A value is trying to be set on a copy of a slice from a DataFrame.\n",
      "Try using .loc[row_indexer,col_indexer] = value instead\n",
      "\n",
      "See the caveats in the documentation: https://pandas.pydata.org/pandas-docs/stable/user_guide/indexing.html#returning-a-view-versus-a-copy\n",
      "  df[f'LapTime_Lag{i}'] = df.groupby(['Year', 'RaceName', 'Driver'])['LapTime'].shift(i)\n",
      "/var/folders/80/nwtb7gx54bg06b5y_lyjvwt40000gn/T/ipykernel_20699/2350675283.py:8: SettingWithCopyWarning: \n",
      "A value is trying to be set on a copy of a slice from a DataFrame.\n",
      "Try using .loc[row_indexer,col_indexer] = value instead\n",
      "\n",
      "See the caveats in the documentation: https://pandas.pydata.org/pandas-docs/stable/user_guide/indexing.html#returning-a-view-versus-a-copy\n",
      "  df[f'Sector1Time_Lag{i}'] = df.groupby(['Year', 'RaceName', 'Driver'])['Sector1Time'].shift(i)\n",
      "/var/folders/80/nwtb7gx54bg06b5y_lyjvwt40000gn/T/ipykernel_20699/2350675283.py:9: SettingWithCopyWarning: \n",
      "A value is trying to be set on a copy of a slice from a DataFrame.\n",
      "Try using .loc[row_indexer,col_indexer] = value instead\n",
      "\n",
      "See the caveats in the documentation: https://pandas.pydata.org/pandas-docs/stable/user_guide/indexing.html#returning-a-view-versus-a-copy\n",
      "  df[f'Sector2Time_Lag{i}'] = df.groupby(['Year', 'RaceName', 'Driver'])['Sector2Time'].shift(i)\n",
      "/var/folders/80/nwtb7gx54bg06b5y_lyjvwt40000gn/T/ipykernel_20699/2350675283.py:10: SettingWithCopyWarning: \n",
      "A value is trying to be set on a copy of a slice from a DataFrame.\n",
      "Try using .loc[row_indexer,col_indexer] = value instead\n",
      "\n",
      "See the caveats in the documentation: https://pandas.pydata.org/pandas-docs/stable/user_guide/indexing.html#returning-a-view-versus-a-copy\n",
      "  df[f'Sector3Time_Lag{i}'] = df.groupby(['Year', 'RaceName', 'Driver'])['Sector3Time'].shift(i)\n",
      "/var/folders/80/nwtb7gx54bg06b5y_lyjvwt40000gn/T/ipykernel_20699/3286590795.py:3: SettingWithCopyWarning: \n",
      "A value is trying to be set on a copy of a slice from a DataFrame.\n",
      "Try using .loc[row_indexer,col_indexer] = value instead\n",
      "\n",
      "See the caveats in the documentation: https://pandas.pydata.org/pandas-docs/stable/user_guide/indexing.html#returning-a-view-versus-a-copy\n",
      "  df['reset'] = df['PitIn'] | df['PitOut'] | df['TrackStatus'].str.contains('4|5|6|7')\n",
      "/var/folders/80/nwtb7gx54bg06b5y_lyjvwt40000gn/T/ipykernel_20699/3286590795.py:13: DeprecationWarning: DataFrameGroupBy.apply operated on the grouping columns. This behavior is deprecated, and in a future version of pandas the grouping columns will be excluded from the operation. Either pass `include_groups=False` to exclude the groupings or explicitly select the grouping columns after groupby to silence this warning.\n",
      "  df = df.groupby(['Year', 'RaceName', 'Driver']).apply(custom_rolling)\n",
      "/var/folders/80/nwtb7gx54bg06b5y_lyjvwt40000gn/T/ipykernel_20699/2350675283.py:3: SettingWithCopyWarning: \n",
      "A value is trying to be set on a copy of a slice from a DataFrame\n",
      "\n",
      "See the caveats in the documentation: https://pandas.pydata.org/pandas-docs/stable/user_guide/indexing.html#returning-a-view-versus-a-copy\n",
      "  df.sort_values(by=['Year', 'RaceName', 'Driver', 'LapNumber'], inplace=True)\n",
      "/var/folders/80/nwtb7gx54bg06b5y_lyjvwt40000gn/T/ipykernel_20699/2350675283.py:7: SettingWithCopyWarning: \n",
      "A value is trying to be set on a copy of a slice from a DataFrame.\n",
      "Try using .loc[row_indexer,col_indexer] = value instead\n",
      "\n",
      "See the caveats in the documentation: https://pandas.pydata.org/pandas-docs/stable/user_guide/indexing.html#returning-a-view-versus-a-copy\n",
      "  df[f'LapTime_Lag{i}'] = df.groupby(['Year', 'RaceName', 'Driver'])['LapTime'].shift(i)\n",
      "/var/folders/80/nwtb7gx54bg06b5y_lyjvwt40000gn/T/ipykernel_20699/2350675283.py:8: SettingWithCopyWarning: \n",
      "A value is trying to be set on a copy of a slice from a DataFrame.\n",
      "Try using .loc[row_indexer,col_indexer] = value instead\n",
      "\n",
      "See the caveats in the documentation: https://pandas.pydata.org/pandas-docs/stable/user_guide/indexing.html#returning-a-view-versus-a-copy\n",
      "  df[f'Sector1Time_Lag{i}'] = df.groupby(['Year', 'RaceName', 'Driver'])['Sector1Time'].shift(i)\n",
      "/var/folders/80/nwtb7gx54bg06b5y_lyjvwt40000gn/T/ipykernel_20699/2350675283.py:9: SettingWithCopyWarning: \n",
      "A value is trying to be set on a copy of a slice from a DataFrame.\n",
      "Try using .loc[row_indexer,col_indexer] = value instead\n",
      "\n",
      "See the caveats in the documentation: https://pandas.pydata.org/pandas-docs/stable/user_guide/indexing.html#returning-a-view-versus-a-copy\n",
      "  df[f'Sector2Time_Lag{i}'] = df.groupby(['Year', 'RaceName', 'Driver'])['Sector2Time'].shift(i)\n",
      "/var/folders/80/nwtb7gx54bg06b5y_lyjvwt40000gn/T/ipykernel_20699/2350675283.py:10: SettingWithCopyWarning: \n",
      "A value is trying to be set on a copy of a slice from a DataFrame.\n",
      "Try using .loc[row_indexer,col_indexer] = value instead\n",
      "\n",
      "See the caveats in the documentation: https://pandas.pydata.org/pandas-docs/stable/user_guide/indexing.html#returning-a-view-versus-a-copy\n",
      "  df[f'Sector3Time_Lag{i}'] = df.groupby(['Year', 'RaceName', 'Driver'])['Sector3Time'].shift(i)\n",
      "/var/folders/80/nwtb7gx54bg06b5y_lyjvwt40000gn/T/ipykernel_20699/2350675283.py:7: SettingWithCopyWarning: \n",
      "A value is trying to be set on a copy of a slice from a DataFrame.\n",
      "Try using .loc[row_indexer,col_indexer] = value instead\n",
      "\n",
      "See the caveats in the documentation: https://pandas.pydata.org/pandas-docs/stable/user_guide/indexing.html#returning-a-view-versus-a-copy\n",
      "  df[f'LapTime_Lag{i}'] = df.groupby(['Year', 'RaceName', 'Driver'])['LapTime'].shift(i)\n",
      "/var/folders/80/nwtb7gx54bg06b5y_lyjvwt40000gn/T/ipykernel_20699/2350675283.py:8: SettingWithCopyWarning: \n",
      "A value is trying to be set on a copy of a slice from a DataFrame.\n",
      "Try using .loc[row_indexer,col_indexer] = value instead\n",
      "\n",
      "See the caveats in the documentation: https://pandas.pydata.org/pandas-docs/stable/user_guide/indexing.html#returning-a-view-versus-a-copy\n",
      "  df[f'Sector1Time_Lag{i}'] = df.groupby(['Year', 'RaceName', 'Driver'])['Sector1Time'].shift(i)\n",
      "/var/folders/80/nwtb7gx54bg06b5y_lyjvwt40000gn/T/ipykernel_20699/2350675283.py:9: SettingWithCopyWarning: \n",
      "A value is trying to be set on a copy of a slice from a DataFrame.\n",
      "Try using .loc[row_indexer,col_indexer] = value instead\n",
      "\n",
      "See the caveats in the documentation: https://pandas.pydata.org/pandas-docs/stable/user_guide/indexing.html#returning-a-view-versus-a-copy\n",
      "  df[f'Sector2Time_Lag{i}'] = df.groupby(['Year', 'RaceName', 'Driver'])['Sector2Time'].shift(i)\n",
      "/var/folders/80/nwtb7gx54bg06b5y_lyjvwt40000gn/T/ipykernel_20699/2350675283.py:10: SettingWithCopyWarning: \n",
      "A value is trying to be set on a copy of a slice from a DataFrame.\n",
      "Try using .loc[row_indexer,col_indexer] = value instead\n",
      "\n",
      "See the caveats in the documentation: https://pandas.pydata.org/pandas-docs/stable/user_guide/indexing.html#returning-a-view-versus-a-copy\n",
      "  df[f'Sector3Time_Lag{i}'] = df.groupby(['Year', 'RaceName', 'Driver'])['Sector3Time'].shift(i)\n",
      "/var/folders/80/nwtb7gx54bg06b5y_lyjvwt40000gn/T/ipykernel_20699/2350675283.py:7: SettingWithCopyWarning: \n",
      "A value is trying to be set on a copy of a slice from a DataFrame.\n",
      "Try using .loc[row_indexer,col_indexer] = value instead\n",
      "\n",
      "See the caveats in the documentation: https://pandas.pydata.org/pandas-docs/stable/user_guide/indexing.html#returning-a-view-versus-a-copy\n",
      "  df[f'LapTime_Lag{i}'] = df.groupby(['Year', 'RaceName', 'Driver'])['LapTime'].shift(i)\n",
      "/var/folders/80/nwtb7gx54bg06b5y_lyjvwt40000gn/T/ipykernel_20699/2350675283.py:8: SettingWithCopyWarning: \n",
      "A value is trying to be set on a copy of a slice from a DataFrame.\n",
      "Try using .loc[row_indexer,col_indexer] = value instead\n",
      "\n",
      "See the caveats in the documentation: https://pandas.pydata.org/pandas-docs/stable/user_guide/indexing.html#returning-a-view-versus-a-copy\n",
      "  df[f'Sector1Time_Lag{i}'] = df.groupby(['Year', 'RaceName', 'Driver'])['Sector1Time'].shift(i)\n",
      "/var/folders/80/nwtb7gx54bg06b5y_lyjvwt40000gn/T/ipykernel_20699/2350675283.py:9: SettingWithCopyWarning: \n",
      "A value is trying to be set on a copy of a slice from a DataFrame.\n",
      "Try using .loc[row_indexer,col_indexer] = value instead\n",
      "\n",
      "See the caveats in the documentation: https://pandas.pydata.org/pandas-docs/stable/user_guide/indexing.html#returning-a-view-versus-a-copy\n",
      "  df[f'Sector2Time_Lag{i}'] = df.groupby(['Year', 'RaceName', 'Driver'])['Sector2Time'].shift(i)\n",
      "/var/folders/80/nwtb7gx54bg06b5y_lyjvwt40000gn/T/ipykernel_20699/2350675283.py:10: SettingWithCopyWarning: \n",
      "A value is trying to be set on a copy of a slice from a DataFrame.\n",
      "Try using .loc[row_indexer,col_indexer] = value instead\n",
      "\n",
      "See the caveats in the documentation: https://pandas.pydata.org/pandas-docs/stable/user_guide/indexing.html#returning-a-view-versus-a-copy\n",
      "  df[f'Sector3Time_Lag{i}'] = df.groupby(['Year', 'RaceName', 'Driver'])['Sector3Time'].shift(i)\n",
      "/var/folders/80/nwtb7gx54bg06b5y_lyjvwt40000gn/T/ipykernel_20699/2350675283.py:7: SettingWithCopyWarning: \n",
      "A value is trying to be set on a copy of a slice from a DataFrame.\n",
      "Try using .loc[row_indexer,col_indexer] = value instead\n",
      "\n",
      "See the caveats in the documentation: https://pandas.pydata.org/pandas-docs/stable/user_guide/indexing.html#returning-a-view-versus-a-copy\n",
      "  df[f'LapTime_Lag{i}'] = df.groupby(['Year', 'RaceName', 'Driver'])['LapTime'].shift(i)\n",
      "/var/folders/80/nwtb7gx54bg06b5y_lyjvwt40000gn/T/ipykernel_20699/2350675283.py:8: SettingWithCopyWarning: \n",
      "A value is trying to be set on a copy of a slice from a DataFrame.\n",
      "Try using .loc[row_indexer,col_indexer] = value instead\n",
      "\n",
      "See the caveats in the documentation: https://pandas.pydata.org/pandas-docs/stable/user_guide/indexing.html#returning-a-view-versus-a-copy\n",
      "  df[f'Sector1Time_Lag{i}'] = df.groupby(['Year', 'RaceName', 'Driver'])['Sector1Time'].shift(i)\n",
      "/var/folders/80/nwtb7gx54bg06b5y_lyjvwt40000gn/T/ipykernel_20699/2350675283.py:9: SettingWithCopyWarning: \n",
      "A value is trying to be set on a copy of a slice from a DataFrame.\n",
      "Try using .loc[row_indexer,col_indexer] = value instead\n",
      "\n",
      "See the caveats in the documentation: https://pandas.pydata.org/pandas-docs/stable/user_guide/indexing.html#returning-a-view-versus-a-copy\n",
      "  df[f'Sector2Time_Lag{i}'] = df.groupby(['Year', 'RaceName', 'Driver'])['Sector2Time'].shift(i)\n",
      "/var/folders/80/nwtb7gx54bg06b5y_lyjvwt40000gn/T/ipykernel_20699/2350675283.py:10: SettingWithCopyWarning: \n",
      "A value is trying to be set on a copy of a slice from a DataFrame.\n",
      "Try using .loc[row_indexer,col_indexer] = value instead\n",
      "\n",
      "See the caveats in the documentation: https://pandas.pydata.org/pandas-docs/stable/user_guide/indexing.html#returning-a-view-versus-a-copy\n",
      "  df[f'Sector3Time_Lag{i}'] = df.groupby(['Year', 'RaceName', 'Driver'])['Sector3Time'].shift(i)\n",
      "/var/folders/80/nwtb7gx54bg06b5y_lyjvwt40000gn/T/ipykernel_20699/2350675283.py:7: SettingWithCopyWarning: \n",
      "A value is trying to be set on a copy of a slice from a DataFrame.\n",
      "Try using .loc[row_indexer,col_indexer] = value instead\n",
      "\n",
      "See the caveats in the documentation: https://pandas.pydata.org/pandas-docs/stable/user_guide/indexing.html#returning-a-view-versus-a-copy\n",
      "  df[f'LapTime_Lag{i}'] = df.groupby(['Year', 'RaceName', 'Driver'])['LapTime'].shift(i)\n",
      "/var/folders/80/nwtb7gx54bg06b5y_lyjvwt40000gn/T/ipykernel_20699/2350675283.py:8: SettingWithCopyWarning: \n",
      "A value is trying to be set on a copy of a slice from a DataFrame.\n",
      "Try using .loc[row_indexer,col_indexer] = value instead\n",
      "\n",
      "See the caveats in the documentation: https://pandas.pydata.org/pandas-docs/stable/user_guide/indexing.html#returning-a-view-versus-a-copy\n",
      "  df[f'Sector1Time_Lag{i}'] = df.groupby(['Year', 'RaceName', 'Driver'])['Sector1Time'].shift(i)\n",
      "/var/folders/80/nwtb7gx54bg06b5y_lyjvwt40000gn/T/ipykernel_20699/2350675283.py:9: SettingWithCopyWarning: \n",
      "A value is trying to be set on a copy of a slice from a DataFrame.\n",
      "Try using .loc[row_indexer,col_indexer] = value instead\n",
      "\n",
      "See the caveats in the documentation: https://pandas.pydata.org/pandas-docs/stable/user_guide/indexing.html#returning-a-view-versus-a-copy\n",
      "  df[f'Sector2Time_Lag{i}'] = df.groupby(['Year', 'RaceName', 'Driver'])['Sector2Time'].shift(i)\n",
      "/var/folders/80/nwtb7gx54bg06b5y_lyjvwt40000gn/T/ipykernel_20699/2350675283.py:10: SettingWithCopyWarning: \n",
      "A value is trying to be set on a copy of a slice from a DataFrame.\n",
      "Try using .loc[row_indexer,col_indexer] = value instead\n",
      "\n",
      "See the caveats in the documentation: https://pandas.pydata.org/pandas-docs/stable/user_guide/indexing.html#returning-a-view-versus-a-copy\n",
      "  df[f'Sector3Time_Lag{i}'] = df.groupby(['Year', 'RaceName', 'Driver'])['Sector3Time'].shift(i)\n",
      "/var/folders/80/nwtb7gx54bg06b5y_lyjvwt40000gn/T/ipykernel_20699/3286590795.py:3: SettingWithCopyWarning: \n",
      "A value is trying to be set on a copy of a slice from a DataFrame.\n",
      "Try using .loc[row_indexer,col_indexer] = value instead\n",
      "\n",
      "See the caveats in the documentation: https://pandas.pydata.org/pandas-docs/stable/user_guide/indexing.html#returning-a-view-versus-a-copy\n",
      "  df['reset'] = df['PitIn'] | df['PitOut'] | df['TrackStatus'].str.contains('4|5|6|7')\n",
      "/var/folders/80/nwtb7gx54bg06b5y_lyjvwt40000gn/T/ipykernel_20699/3286590795.py:13: DeprecationWarning: DataFrameGroupBy.apply operated on the grouping columns. This behavior is deprecated, and in a future version of pandas the grouping columns will be excluded from the operation. Either pass `include_groups=False` to exclude the groupings or explicitly select the grouping columns after groupby to silence this warning.\n",
      "  df = df.groupby(['Year', 'RaceName', 'Driver']).apply(custom_rolling)\n"
     ]
    }
   ],
   "source": [
    "df_race = filter_for_race(df_all, 'Abu Dhabi Grand Prix', 2023, team_encode=True)\n",
    "h_train_data, h_test_data = xg_train_test_split(df_race, 30, 'HAM')\n",
    "p_train_data, p_test_data = xg_train_test_split(df_race, 30, 'ALO')\n"
   ]
  },
  {
   "cell_type": "code",
   "execution_count": 366,
   "metadata": {},
   "outputs": [
    {
     "data": {
      "text/html": [
       "<div>\n",
       "<style scoped>\n",
       "    .dataframe tbody tr th:only-of-type {\n",
       "        vertical-align: middle;\n",
       "    }\n",
       "\n",
       "    .dataframe tbody tr th {\n",
       "        vertical-align: top;\n",
       "    }\n",
       "\n",
       "    .dataframe thead th {\n",
       "        text-align: right;\n",
       "    }\n",
       "</style>\n",
       "<table border=\"1\" class=\"dataframe\">\n",
       "  <thead>\n",
       "    <tr style=\"text-align: right;\">\n",
       "      <th></th>\n",
       "      <th>features</th>\n",
       "      <th>mae</th>\n",
       "      <th>mse</th>\n",
       "    </tr>\n",
       "  </thead>\n",
       "  <tbody>\n",
       "    <tr>\n",
       "      <th>0</th>\n",
       "      <td>[LapNumber, LapTime_Lag1, LapTime_Lag2, LapTim...</td>\n",
       "      <td>0.084</td>\n",
       "      <td>0.017</td>\n",
       "    </tr>\n",
       "  </tbody>\n",
       "</table>\n",
       "</div>"
      ],
      "text/plain": [
       "                                            features   mae   mse\n",
       "0  [LapNumber, LapTime_Lag1, LapTime_Lag2, LapTim... 0.084 0.017"
      ]
     },
     "execution_count": 366,
     "metadata": {},
     "output_type": "execute_result"
    }
   ],
   "source": [
    "preds, acc = xg_train_and_evaluate(h_train_data, h_test_data, 'HAM')\n",
    "acc"
   ]
  },
  {
   "cell_type": "code",
   "execution_count": 364,
   "metadata": {},
   "outputs": [
    {
     "data": {
      "text/html": [
       "<div>\n",
       "<style scoped>\n",
       "    .dataframe tbody tr th:only-of-type {\n",
       "        vertical-align: middle;\n",
       "    }\n",
       "\n",
       "    .dataframe tbody tr th {\n",
       "        vertical-align: top;\n",
       "    }\n",
       "\n",
       "    .dataframe thead th {\n",
       "        text-align: right;\n",
       "    }\n",
       "</style>\n",
       "<table border=\"1\" class=\"dataframe\">\n",
       "  <thead>\n",
       "    <tr style=\"text-align: right;\">\n",
       "      <th></th>\n",
       "      <th>features</th>\n",
       "      <th>mae</th>\n",
       "      <th>mse</th>\n",
       "    </tr>\n",
       "  </thead>\n",
       "  <tbody>\n",
       "    <tr>\n",
       "      <th>0</th>\n",
       "      <td>[LapNumber, LapTime_Lag1, LapTime_Lag2, LapTim...</td>\n",
       "      <td>0.232</td>\n",
       "      <td>0.067</td>\n",
       "    </tr>\n",
       "  </tbody>\n",
       "</table>\n",
       "</div>"
      ],
      "text/plain": [
       "                                            features   mae   mse\n",
       "0  [LapNumber, LapTime_Lag1, LapTime_Lag2, LapTim... 0.232 0.067"
      ]
     },
     "execution_count": 364,
     "metadata": {},
     "output_type": "execute_result"
    }
   ],
   "source": [
    "preds, acc = xg_train_and_evaluate(p_train_data, p_test_data, 'ALO')\n",
    "acc"
   ]
  },
  {
   "cell_type": "markdown",
   "metadata": {},
   "source": []
  },
  {
   "cell_type": "markdown",
   "metadata": {},
   "source": []
  },
  {
   "cell_type": "code",
   "execution_count": null,
   "metadata": {},
   "outputs": [],
   "source": [
    "from sklearn.model_selection import GridSearchCV\n",
    "import xgboost as xgb\n",
    "\n",
    "# Define the model\n",
    "xgb_model = xgb.XGBRegressor(objective='reg:squarederror')\n",
    "\n",
    "# Define the parameters grid\n",
    "param_grid = {\n",
    "    'colsample_bytree': [0.3, 0.7],\n",
    "    'learning_rate': [0.01, 0.1],\n",
    "    'max_depth': [3, 5, 7],\n",
    "    'alpha': [10, 20],\n",
    "    'n_estimators': [50, 100, 200]\n",
    "}\n",
    "\n",
    "# Setup GridSearchCV\n",
    "grid_search = GridSearchCV(estimator=xgb_model, param_grid=param_grid, scoring='neg_mean_squared_error', cv=3, verbose=1)\n",
    "\n",
    "# Fit GridSearchCV\n",
    "grid_search.fit(X, y)\n",
    "\n",
    "# Best parameters and best score\n",
    "print(\"Best parameters found: \", grid_search.best_params_)\n",
    "print(\"Best score found: \", grid_search.best_score_)\n"
   ]
  },
  {
   "cell_type": "code",
   "execution_count": 28,
   "metadata": {},
   "outputs": [],
   "source": [
    "import itertools\n",
    "\n",
    "def predict_striking_distance(lap_times_behind, lap_times_front, initial_gap):\n",
    "    gap = initial_gap\n",
    "    for i, (time_behind, time_front) in enumerate(zip(lap_times_behind, lap_times_front), start=1):\n",
    "        gap += time_behind - time_front\n",
    "        if gap < 1:\n",
    "            return i\n",
    "    return float('inf')"
   ]
  },
  {
   "cell_type": "code",
   "execution_count": 29,
   "metadata": {},
   "outputs": [],
   "source": [
    "def average_predictions(model1, model2):\n",
    "    return [(m1 + m2) / 2 for m1, m2 in zip(model1, model2)]"
   ]
  },
  {
   "cell_type": "code",
   "execution_count": 30,
   "metadata": {},
   "outputs": [],
   "source": [
    "def evaluate_combined(test_data, predictions):\n",
    "    mae = mean_absolute_error(test_data['LapTime'], predictions)\n",
    "    mse = mean_squared_error(test_data['LapTime'], predictions)\n",
    "\n",
    "    return pd.DataFrame({\n",
    "        'mae': [mae],\n",
    "        'mse': [mse]\n",
    "    })"
   ]
  },
  {
   "cell_type": "code",
   "execution_count": 96,
   "metadata": {},
   "outputs": [],
   "source": [
    "def battle_prediction(all_race_data, year, racename, driver_behind, driver_front, lap_of_race, n_laps_predict):\n",
    "    # Verseny adatokra szűrés\n",
    "    df_race = filter_for_race(all_race_data, racename, year, team_encode=True)\n",
    "\n",
    "    #Lineáris Regresszió\n",
    "    r_train_behind, r_train_front, test_behind, test_front = prediction_context(df_race.copy(), driver_behind, driver_front, lap_of_race, n_laps_predict)\n",
    "    r_behind_times, r_behind_accuracy = train_and_evaluate(r_train_behind, test_behind, n_laps_predict)\n",
    "    r_front_times, r_front_accuracy = train_and_evaluate(r_train_front, test_front, n_laps_predict)\n",
    "    \n",
    "    # XGBoost Regresszió\n",
    "    train_data, _ = xg_train_test_split(df_race.copy(), lap_of_race)\n",
    "    x_behind_times, x_behind_accuracy = xg_train_and_evaluate(train_data, test_behind, driver_behind, n_laps_predict)\n",
    "    x_front_times, x_front_accuracy = xg_train_and_evaluate(train_data, test_front, driver_front, n_laps_predict)\n",
    "    \n",
    "    # Átlagolt predikciók\n",
    "    combined_behind_times = average_predictions(r_behind_times, x_behind_times)\n",
    "    combined_front_times = average_predictions(r_front_times, x_front_times)\n",
    "    combined_behind_accuracy = evaluate_combined(test_behind, combined_behind_times)\n",
    "    combined_front_accuracy = evaluate_combined(test_front, combined_front_times)\n",
    "\n",
    "    # Két pilóta közötti távolság a predikció idején\n",
    "    gap_between = r_train_behind['CumulativeTime'].iloc[-1] - r_train_front['CumulativeTime'].iloc[-1]\n",
    "    \n",
    "    # Támadási távolság kialakulásának kiszámítása\n",
    "    regression_predicted_laps = predict_striking_distance(r_behind_times, r_front_times, gap_between)\n",
    "    xgboost_predicted_laps = predict_striking_distance(x_behind_times, x_front_times, gap_between)\n",
    "    combined_predicted_laps = predict_striking_distance(combined_behind_times, combined_front_times, gap_between)\n",
    "    \n",
    "    result_df = pd.DataFrame({\n",
    "        'Year' : [year],\n",
    "        'RaceName' : [racename],\n",
    "        'ChasingBehind' : [driver_behind],\n",
    "        'ChasingFront' : [driver_front],\n",
    "        'LeadLapofthePrediction' : [lap_of_race],\n",
    "        'RegressionPredictedLaps' : [regression_predicted_laps],\n",
    "        'Regression_mae' : [(r_behind_accuracy['mae'].values[0] + r_front_accuracy['mae'].values[0]) / 2],\n",
    "        'Regression_mse' : [(r_behind_accuracy['mse'].values[0] + r_front_accuracy['mse'].values[0]) / 2],\n",
    "        'XGBoostPredictedLaps' : [xgboost_predicted_laps],\n",
    "        'XGB_mae' : [(x_behind_accuracy['mae'].values[0] + x_front_accuracy['mae'].values[0]) / 2],\n",
    "        'XGB_mse' : [(x_behind_accuracy['mse'].values[0] + x_front_accuracy['mse'].values[0]) / 2],\n",
    "        'CombinedPredictedLaps' : [combined_predicted_laps],\n",
    "        'Combined_mae' : [(combined_behind_accuracy['mae'].values[0] + combined_front_accuracy['mae'].values[0]) / 2],\n",
    "        'Combined_mse' : [(combined_behind_accuracy['mse'].values[0] + combined_front_accuracy['mse'].values[0]) / 2]\n",
    "    })\n",
    "\n",
    "    return result_df\n"
   ]
  },
  {
   "cell_type": "code",
   "execution_count": 97,
   "metadata": {},
   "outputs": [],
   "source": [
    "def battle_prediction(all_race_data, year, racename, driver_behind, driver_front, lap_of_race, n_laps_predict):\n",
    "    # Verseny adatokra szűrés\n",
    "    df_race = filter_for_race(all_race_data, racename, year, team_encode=True)\n",
    "    df_race = remove_slow_laps(df_race)\n",
    "\n",
    "    #Lineáris Regresszió\n",
    "    r_train_behind, r_train_front, test_behind, test_front = prediction_context(df_race.copy(), driver_behind, driver_front, lap_of_race, n_laps_predict)\n",
    "    r_behind_times, r_behind_accuracy = train_and_evaluate(r_train_behind, test_behind, n_laps_predict)\n",
    "    r_front_times, r_front_accuracy = train_and_evaluate(r_train_front, test_front, n_laps_predict)\n",
    "    \n",
    "    # XGBoost\n",
    "    train_data, _ = xg_train_test_split(df_race.copy(), lap_of_race)\n",
    "    xbtrain = train_data[train_data['Driver']==driver_behind]\n",
    "    xftrain = train_data[train_data['Driver']==driver_front]\n",
    "    x_behind_times, x_behind_accuracy = xg_train_and_evaluate(xbtrain, test_behind, driver_behind, n_laps_predict)\n",
    "    x_front_times, x_front_accuracy = xg_train_and_evaluate(xftrain, test_front, driver_front, n_laps_predict)\n",
    "    \n",
    "    # Átlagolt predikciók\n",
    "    combined_behind_times = average_predictions(r_behind_times, x_behind_times)\n",
    "    combined_front_times = average_predictions(r_front_times, x_front_times)\n",
    "    combined_behind_accuracy = evaluate_combined(test_behind, combined_behind_times)\n",
    "    combined_front_accuracy = evaluate_combined(test_front, combined_front_times)\n",
    "\n",
    "    # Két pilóta közötti távolság a predikció idején\n",
    "    gap_between = r_train_behind['CumulativeTime'].iloc[-1] - r_train_front['CumulativeTime'].iloc[-1]\n",
    "    print(\"Gap: \")\n",
    "    print(gap_between)\n",
    "    \n",
    "    # Támadási távolság kialakulásának kiszámítása\n",
    "    regression_predicted_laps = predict_striking_distance(r_behind_times, r_front_times, gap_between)\n",
    "    xgboost_predicted_laps = predict_striking_distance(x_behind_times, x_front_times, gap_between)\n",
    "    combined_predicted_laps = predict_striking_distance(combined_behind_times, combined_front_times, gap_between)\n",
    "    \n",
    "    result_df = pd.DataFrame({\n",
    "        'Year' : [year],\n",
    "        'RaceName' : [racename],\n",
    "        'ChasingBehind' : [driver_behind],\n",
    "        'ChasingFront' : [driver_front],\n",
    "        'LeadLapofthePrediction' : [lap_of_race],\n",
    "        'RegressionPredictedLaps' : [regression_predicted_laps],\n",
    "        'Regression_mae' : [(r_behind_accuracy['mae'].values[0] + r_front_accuracy['mae'].values[0]) / 2],\n",
    "        'Regression_mse' : [(r_behind_accuracy['mse'].values[0] + r_front_accuracy['mse'].values[0]) / 2],\n",
    "        'XGBoostPredictedLaps' : [xgboost_predicted_laps],\n",
    "        'XGB_mae' : [(x_behind_accuracy['mae'].values[0] + x_front_accuracy['mae'].values[0]) / 2],\n",
    "        'XGB_mse' : [(x_behind_accuracy['mse'].values[0] + x_front_accuracy['mse'].values[0]) / 2],\n",
    "        'CombinedPredictedLaps' : [combined_predicted_laps],\n",
    "        'Combined_mae' : [(combined_behind_accuracy['mae'].values[0] + combined_front_accuracy['mae'].values[0]) / 2],\n",
    "        'Combined_mse' : [(combined_behind_accuracy['mse'].values[0] + combined_front_accuracy['mse'].values[0]) / 2]\n",
    "    })\n",
    "\n",
    "    return result_df\n"
   ]
  },
  {
   "cell_type": "code",
   "execution_count": 100,
   "metadata": {},
   "outputs": [
    {
     "name": "stdout",
     "output_type": "stream",
     "text": [
      "Gap: \n",
      "3.4279999999998836\n"
     ]
    }
   ],
   "source": [
    "test_df = battle_prediction(df_all, 2019, 'United States Grand Prix', 'BOT', 'HAM',45,10)\n",
    "# 2023, 'Singapore Grand Prix', 'RUS', 'NOR',56, 5\n",
    "# 2023, 'Austrian Grand Prix', 'VER', 'LEC', 31, 5\n",
    "# 2021, 'Spanish Grand Prix' ,'HAM','VER',48,10\n",
    "# 2021, 'French Grand Prix', 'VER', 'BOT',38,6"
   ]
  },
  {
   "cell_type": "code",
   "execution_count": 101,
   "metadata": {},
   "outputs": [
    {
     "data": {
      "text/html": [
       "<div>\n",
       "<style scoped>\n",
       "    .dataframe tbody tr th:only-of-type {\n",
       "        vertical-align: middle;\n",
       "    }\n",
       "\n",
       "    .dataframe tbody tr th {\n",
       "        vertical-align: top;\n",
       "    }\n",
       "\n",
       "    .dataframe thead th {\n",
       "        text-align: right;\n",
       "    }\n",
       "</style>\n",
       "<table border=\"1\" class=\"dataframe\">\n",
       "  <thead>\n",
       "    <tr style=\"text-align: right;\">\n",
       "      <th></th>\n",
       "      <th>Year</th>\n",
       "      <th>RaceName</th>\n",
       "      <th>ChasingBehind</th>\n",
       "      <th>ChasingFront</th>\n",
       "      <th>LeadLapofthePrediction</th>\n",
       "      <th>RegressionPredictedLaps</th>\n",
       "      <th>Regression_mae</th>\n",
       "      <th>Regression_mse</th>\n",
       "      <th>XGBoostPredictedLaps</th>\n",
       "      <th>XGB_mae</th>\n",
       "      <th>XGB_mse</th>\n",
       "      <th>CombinedPredictedLaps</th>\n",
       "      <th>Combined_mae</th>\n",
       "      <th>Combined_mse</th>\n",
       "    </tr>\n",
       "  </thead>\n",
       "  <tbody>\n",
       "    <tr>\n",
       "      <th>0</th>\n",
       "      <td>2019</td>\n",
       "      <td>United States Grand Prix</td>\n",
       "      <td>BOT</td>\n",
       "      <td>HAM</td>\n",
       "      <td>45</td>\n",
       "      <td>inf</td>\n",
       "      <td>0.655</td>\n",
       "      <td>0.692</td>\n",
       "      <td>9</td>\n",
       "      <td>0.697</td>\n",
       "      <td>0.766</td>\n",
       "      <td>inf</td>\n",
       "      <td>0.639</td>\n",
       "      <td>0.695</td>\n",
       "    </tr>\n",
       "  </tbody>\n",
       "</table>\n",
       "</div>"
      ],
      "text/plain": [
       "   Year                  RaceName ChasingBehind ChasingFront  \\\n",
       "0  2019  United States Grand Prix           BOT          HAM   \n",
       "\n",
       "   LeadLapofthePrediction  RegressionPredictedLaps  Regression_mae  \\\n",
       "0                      45                      inf           0.655   \n",
       "\n",
       "   Regression_mse  XGBoostPredictedLaps  XGB_mae  XGB_mse  \\\n",
       "0           0.692                     9    0.697    0.766   \n",
       "\n",
       "   CombinedPredictedLaps  Combined_mae  Combined_mse  \n",
       "0                    inf         0.639         0.695  "
      ]
     },
     "execution_count": 101,
     "metadata": {},
     "output_type": "execute_result"
    }
   ],
   "source": [
    "test_df"
   ]
  },
  {
   "cell_type": "code",
   "execution_count": 82,
   "metadata": {},
   "outputs": [],
   "source": [
    "aws_battle_predictions = pd.read_csv('AWS_battle_predictions_no_data_issue.csv')\n",
    "import warnings\n",
    "warnings.filterwarnings('ignore')"
   ]
  },
  {
   "cell_type": "code",
   "execution_count": 92,
   "metadata": {},
   "outputs": [
    {
     "name": "stdout",
     "output_type": "stream",
     "text": [
      "2023 Hungarian HAM PIA 54\n",
      "2023 Hungarian PER HAM 33\n",
      "2023 Abu Dhabi HAM ALO 30\n",
      "2023 Miami HAM LEC 50\n",
      "2023 Austrian VER LEC 31\n",
      "2023 Austrian PER ALO 39\n",
      "2023 Singapore RUS NOR 56\n",
      "2022 Miami HAM BOT 36\n",
      "2022 Spanish SAI BOT 53\n",
      "2022 Spanish VER RUS 33\n",
      "2022 Azerbaijan HAM GAS 33\n",
      "2022 Canadian ALO LEC 38\n",
      "2022 Canadian RUS ALO 27\n",
      "2022 Austrian SAI VER 36\n",
      "2022 French SAI NOR 45\n",
      "2022 Hungarian HAM SAI 58\n",
      "2022 Hungarian HAM SAI 46\n",
      "2022 Dutch HAM PER 34\n",
      "2022 Dutch VER RUS 23\n",
      "2022 São Paulo HAM PER 39\n",
      "2022 São Paulo HAM SAI 33\n",
      "2021 Portuguese BOT VER 45\n",
      "2021 French VER BOT 38\n",
      "2021 Styrian PER BOT 39\n",
      "2021 Austrian NOR BOT 52\n",
      "2021 Austrian BOT HAM 42\n",
      "2021 Dutch NOR OCO 51\n",
      "2021 Dutch VER BOT 25\n",
      "2021 Russian HAM NOR 33\n",
      "2021 Turkish HAM PER 22\n",
      "2021 Mexico City PER HAM 57\n",
      "2020 Styrian BOT VER 65\n",
      "2020 Styrian BOT VER 24\n",
      "2020 Hungarian BOT VER 40\n",
      "2020 Hungarian BOT STR 23\n",
      "2020 Hungarian BOT STR 13\n",
      "Error occurred: Found array with 0 sample(s) (shape=(0, 4)) while a minimum of 1 is required by LinearRegression.. Skipping this combination.\n",
      "2020 Hungarian BOT GRO 11\n",
      "Error occurred: Found array with 0 sample(s) (shape=(0, 4)) while a minimum of 1 is required by LinearRegression.. Skipping this combination.\n",
      "2020 Emilia Romagna LEC RIC 13\n",
      "2020 Turkish LEC PER 45\n",
      "2020 Turkish ALB PER 20\n",
      "Error occurred: Found array with 0 sample(s) (shape=(0, 4)) while a minimum of 1 is required by LinearRegression.. Skipping this combination.\n",
      "2019 German VER BOT 13\n",
      "Error occurred: Found array with 0 sample(s) (shape=(0, 4)) while a minimum of 1 is required by LinearRegression.. Skipping this combination.\n",
      "2019 Italian BOT LEC 43\n",
      "2019 Italian BOT LEC 42\n",
      "2019 Italian BOT HAM 40\n",
      "2019 Italian BOT HAM 38\n",
      "2019 Japanese HAM VET 45\n",
      "2019 United States BOT HAM 39\n",
      "2019 Brazilian VER VET 49\n",
      "2019 Abu Dhabi VER LEC 31\n"
     ]
    }
   ],
   "source": [
    "# Filter the DataFrame\n",
    "filtered_aws_battle_predictions = aws_battle_predictions[aws_battle_predictions['PredictedLaps'] <= 5]\n",
    "\n",
    "# Get unique combinations of Year, RaceName, ChasingBehind, ChasingFront, and LeadLapofthePrediction\n",
    "unique_combinations = filtered_aws_battle_predictions[['Year', 'RaceName', 'ChasingBehind', 'ChasingFront', 'LeadLapofthePrediction']].drop_duplicates()\n",
    "unique_combinations = unique_combinations[~(((unique_combinations['Year'] == 2023) & \n",
    "                                             (unique_combinations['RaceName'] == 'Hungarian') & \n",
    "                                             (unique_combinations['ChasingBehind'] == 'RUS') & \n",
    "                                             (unique_combinations['ChasingFront'] == 'ALO') & \n",
    "                                             (unique_combinations['LeadLapofthePrediction'] == 42)) |\n",
    "                                            ((unique_combinations['Year'] == 2023) & \n",
    "                                             (unique_combinations['RaceName'] == 'Brazil') & \n",
    "                                             (unique_combinations['ChasingBehind'] == 'PER') & \n",
    "                                             (unique_combinations['ChasingFront'] == 'ALO') & \n",
    "                                             (unique_combinations['LeadLapofthePrediction'] == 32)) |\n",
    "                                            ((unique_combinations['Year'] == 2023) & \n",
    "                                             (unique_combinations['RaceName'] == 'Spanish') & \n",
    "                                             (unique_combinations['ChasingBehind'] == 'RUS') & \n",
    "                                             (unique_combinations['ChasingFront'] == 'SAI') & \n",
    "                                             (unique_combinations['LeadLapofthePrediction'] == 33)) |\n",
    "                                            ((unique_combinations['Year'] == 2023) & \n",
    "                                             (unique_combinations['RaceName'] == 'Bahrain') & \n",
    "                                             (unique_combinations['ChasingBehind'] == 'ALO') & \n",
    "                                             (unique_combinations['ChasingFront'] == 'SAI') & \n",
    "                                             (unique_combinations['LeadLapofthePrediction'] == 40)))]\n",
    "# Initialize an empty DataFrame to store the results\n",
    "last_own_battle_predictions = pd.DataFrame()\n",
    "\n",
    "# Loop over the unique combinations and call the battle_prediction function for each one\n",
    "for row in unique_combinations.itertuples(index=False):\n",
    "    year, race_name, chasing_behind, chasing_front, lead_lap = row\n",
    "    print(year, race_name, chasing_behind, chasing_front, lead_lap)\n",
    "    try:\n",
    "        battle_pred_df = battle_prediction(df_all, year, race_name + ' Grand Prix', chasing_behind, chasing_front, lead_lap, 20)\n",
    "        # Concatenate the result to the own_battle_predictions DataFrame\n",
    "        last_own_battle_predictions = pd.concat([last_own_battle_predictions, battle_pred_df], ignore_index=True)\n",
    "    except ValueError as e:\n",
    "        print(f\"Error occurred: {e}. Skipping this combination.\")"
   ]
  },
  {
   "cell_type": "code",
   "execution_count": 86,
   "metadata": {},
   "outputs": [
    {
     "name": "stdout",
     "output_type": "stream",
     "text": [
      "Average Regression MAE: 0.40967450112437975\n",
      "Average Regression MSE: 0.36400641198288336\n",
      "Average XGB MAE: 0.43427611231310576\n",
      "Average XGB MSE: 0.4176122059668495\n",
      "Average Combined MAE: 0.4004509401489473\n",
      "Average Combined MSE: 0.35298254933269213\n"
     ]
    }
   ],
   "source": [
    "print(\"Average Regression MAE:\", own_battle_predictions['Regression_mae'].mean())\n",
    "print(\"Average Regression MSE:\", own_battle_predictions['Regression_mse'].mean())\n",
    "print(\"Average XGB MAE:\", own_battle_predictions['XGB_mae'].mean())\n",
    "print(\"Average XGB MSE:\", own_battle_predictions['XGB_mse'].mean())\n",
    "print(\"Average Combined MAE:\", own_battle_predictions['Combined_mae'].mean())\n",
    "print(\"Average Combined MSE:\", own_battle_predictions['Combined_mse'].mean())"
   ]
  },
  {
   "cell_type": "code",
   "execution_count": 81,
   "metadata": {},
   "outputs": [],
   "source": [
    "own_battle_predictions.to_csv('own_battle_predictions.csv', index=False)"
   ]
  },
  {
   "cell_type": "code",
   "execution_count": null,
   "metadata": {},
   "outputs": [],
   "source": [
    "filtered_aws_battle_predictions.info()"
   ]
  },
  {
   "cell_type": "code",
   "execution_count": 93,
   "metadata": {},
   "outputs": [
    {
     "name": "stdout",
     "output_type": "stream",
     "text": [
      "<class 'pandas.core.frame.DataFrame'>\n",
      "RangeIndex: 45 entries, 0 to 44\n",
      "Data columns (total 8 columns):\n",
      " #   Column                   Non-Null Count  Dtype  \n",
      "---  ------                   --------------  -----  \n",
      " 0   Year                     45 non-null     int64  \n",
      " 1   RaceName                 45 non-null     object \n",
      " 2   ChasingBehind            45 non-null     object \n",
      " 3   ChasingFront             45 non-null     object \n",
      " 4   LeadLapofthePrediction   45 non-null     int64  \n",
      " 5   RegressionPredictedLaps  45 non-null     float64\n",
      " 6   XGBoostPredictedLaps     45 non-null     float64\n",
      " 7   CombinedPredictedLaps    45 non-null     float64\n",
      "dtypes: float64(3), int64(2), object(3)\n",
      "memory usage: 2.9+ KB\n"
     ]
    }
   ],
   "source": [
    "last_own_battle_predictions.info()"
   ]
  },
  {
   "cell_type": "code",
   "execution_count": 95,
   "metadata": {},
   "outputs": [],
   "source": [
    "last_own_battle_predictions.to_csv('last_own_battle_predictions.csv', index=False)"
   ]
  },
  {
   "cell_type": "code",
   "execution_count": null,
   "metadata": {},
   "outputs": [],
   "source": []
  }
 ],
 "metadata": {
  "kernelspec": {
   "display_name": "Python 3",
   "language": "python",
   "name": "python3"
  },
  "language_info": {
   "codemirror_mode": {
    "name": "ipython",
    "version": 3
   },
   "file_extension": ".py",
   "mimetype": "text/x-python",
   "name": "python",
   "nbconvert_exporter": "python",
   "pygments_lexer": "ipython3",
   "version": "3.12.1"
  }
 },
 "nbformat": 4,
 "nbformat_minor": 2
}
